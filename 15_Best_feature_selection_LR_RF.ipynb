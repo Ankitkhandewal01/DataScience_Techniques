{
 "cells": [
  {
   "cell_type": "markdown",
   "id": "3794a470",
   "metadata": {},
   "source": [
    "# Best feature for linear regression and decision tree "
   ]
  },
  {
   "cell_type": "code",
   "execution_count": null,
   "id": "39b366af",
   "metadata": {},
   "outputs": [],
   "source": [
    "selector = RFE(l, n_features_to_select=3)\n",
    "selector.fit(x_train, y_train)\n",
    "best_feature_index = selector.ranking_.argmin()\n",
    "best_feature = x_train.columns[best_feature_index]\n",
    "print(\"Best feature for linear regression:\", best_feature)"
   ]
  },
  {
   "cell_type": "code",
   "execution_count": null,
   "id": "d2184b1e",
   "metadata": {},
   "outputs": [],
   "source": [
    "# for multiple\n",
    "selector = RFE(estimator, n_features_to_select=4)\n",
    "selector.fit(x_train, y_train)\n",
    "best_feature_indices = selector.get_support(indices=True)\n",
    "best_features = x_train.columns[best_feature_indices]\n",
    "print(\"Best features for linear regression:\", best_features)\n"
   ]
  },
  {
   "cell_type": "code",
   "execution_count": null,
   "id": "bc54dd4c",
   "metadata": {},
   "outputs": [],
   "source": [
    "from sklearn.feature_selection import RFECV\n",
    "from sklearn.linear_model import LinearRegression\n",
    "\n",
    "# Assuming you have split your dataset into features (X) and target variable (y)\n",
    "estimator = LinearRegression()\n",
    "selector = RFECV(estimator)\n",
    "selector.fit(X, y)\n",
    "best_feature_index = selector.support_.argmax()\n",
    "best_feature = X.columns[best_feature_index]\n",
    "print(\"Best feature for supervised learning:\", best_feature)\n"
   ]
  },
  {
   "cell_type": "code",
   "execution_count": null,
   "id": "0bab80a5",
   "metadata": {},
   "outputs": [],
   "source": [
    "from sklearn.feature_selection import SelectKBest, f_regression\n",
    "from sklearn.linear_model import LinearRegression\n",
    "\n",
    "# Assuming you have split your dataset into features (X) and target variable (y)\n",
    "selector = SelectKBest(score_func=f_regression, k=1)\n",
    "selector.fit(X, y)\n",
    "best_feature_index = selector.get_support(indices=True)[0]\n",
    "best_feature = X.columns[best_feature_index]\n",
    "\n",
    "# Train linear regression model with the selected feature\n",
    "model = LinearRegression()\n",
    "model.fit(X[[best_feature]], y)\n"
   ]
  },
  {
   "cell_type": "markdown",
   "id": "7ae7c629",
   "metadata": {},
   "source": [
    "# for Gini impurity"
   ]
  },
  {
   "cell_type": "code",
   "execution_count": null,
   "id": "00e18a43",
   "metadata": {},
   "outputs": [],
   "source": [
    "from sklearn.tree import DecisionTreeClassifier\n",
    "\n",
    "# Assuming you have split your dataset into features (X) and target variable (y)\n",
    "model = DecisionTreeClassifier(criterion='entropy')  # 'gini' can also be used\n",
    "model.fit(X, y)\n",
    "best_feature_index = model.feature_importances_.argmax()\n",
    "best_feature = X.columns[best_feature_index]\n",
    "print(\"Best feature for decision tree:\", best_feature)\n"
   ]
  },
  {
   "cell_type": "markdown",
   "id": "9627c015",
   "metadata": {},
   "source": [
    "# Best feature for Random forest"
   ]
  },
  {
   "cell_type": "code",
   "execution_count": null,
   "id": "615abf99",
   "metadata": {},
   "outputs": [],
   "source": [
    "from sklearn.ensemble import RandomForestRegressor\n",
    "\n",
    "# Assuming you have split your dataset into features (X) and target variable (y)\n",
    "model = RandomForestRegressor()\n",
    "model.fit(X, y)\n",
    "feature_importance = pd.Series(model.feature_importances_, index=X.columns).sort_values(ascending=False)\n",
    "best_feature = feature_importance.index[0]\n",
    "print(\"Best feature for linear regression:\", best_feature)\n"
   ]
  }
 ],
 "metadata": {
  "kernelspec": {
   "display_name": "Python 3",
   "language": "python",
   "name": "python3"
  },
  "language_info": {
   "codemirror_mode": {
    "name": "ipython",
    "version": 3
   },
   "file_extension": ".py",
   "mimetype": "text/x-python",
   "name": "python",
   "nbconvert_exporter": "python",
   "pygments_lexer": "ipython3",
   "version": "3.8.8"
  }
 },
 "nbformat": 4,
 "nbformat_minor": 5
}
