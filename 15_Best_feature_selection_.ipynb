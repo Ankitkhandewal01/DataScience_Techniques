{
 "cells": [
  {
   "cell_type": "markdown",
   "id": "3794a470",
   "metadata": {},
   "source": [
    "# Featur Selection for linear regression ,logistic r, decision tree and Random forest using Titanic Dataset"
   ]
  },
  {
   "cell_type": "markdown",
   "id": "a9293dbe",
   "metadata": {},
   "source": [
    "# RFECV"
   ]
  },
  {
   "cell_type": "code",
   "execution_count": null,
   "id": "bc54dd4c",
   "metadata": {},
   "outputs": [],
   "source": [
    "from sklearn.feature_selection import RFECV\n",
    "from sklearn.linear_model import LinearRegression\n",
    "\n",
    "# Assuming you have split your dataset into features (X) and target variable (y)\n",
    "estimator = LinearRegression()\n",
    "selector = RFECV(estimator)\n",
    "selector.fit(X, y)\n",
    "best_feature_index = selector.support_.argmax()\n",
    "best_feature = X.columns[best_feature_index]\n",
    "print(\"Best feature for supervised learning:\", best_feature)\n"
   ]
  },
  {
   "cell_type": "markdown",
   "id": "7ae7c629",
   "metadata": {},
   "source": [
    "# for Gini impurity"
   ]
  },
  {
   "cell_type": "code",
   "execution_count": null,
   "id": "00e18a43",
   "metadata": {},
   "outputs": [],
   "source": [
    "from sklearn.tree import DecisionTreeClassifier\n",
    "\n",
    "# Assuming you have split your dataset into features (X) and target variable (y)\n",
    "model = DecisionTreeClassifier(criterion='entropy')  # 'gini' can also be used\n",
    "model.fit(X, y)\n",
    "best_feature_index = model.feature_importances_.argmax()\n",
    "best_feature = X.columns[best_feature_index]\n",
    "print(\"Best feature for decision tree:\", best_feature)\n"
   ]
  },
  {
   "cell_type": "markdown",
   "id": "9627c015",
   "metadata": {},
   "source": [
    "# Filter base (SelectKBest)"
   ]
  },
  {
   "cell_type": "code",
   "execution_count": 10,
   "id": "11fdd449",
   "metadata": {},
   "outputs": [
    {
     "name": "stdout",
     "output_type": "stream",
     "text": [
      "Accuracy of the Logistic Regression model: 0.78\n"
     ]
    }
   ],
   "source": [
    "import pandas as pd\n",
    "from sklearn.model_selection import train_test_split\n",
    "from sklearn.preprocessing import LabelEncoder\n",
    "from sklearn.feature_selection import SelectKBest, f_classif\n",
    "from sklearn.linear_model import LogisticRegression\n",
    "from sklearn.metrics import accuracy_score\n",
    "\n",
    "# Load the Titanic dataset (you can download it from https://www.kaggle.com/c/titanic/data)\n",
    "# Make sure to replace 'train.csv' with the path to your dataset file.\n",
    "data  =pd.read_csv(r'C:\\Users\\Ankit\\Desktop\\All folders\\BrainyBeam tasks\\train.csv')\n",
    "\n",
    "# Preprocessing: Handle missing values and encode categorical variables\n",
    "data['Age'].fillna(data['Age'].median(), inplace=True)\n",
    "data['Embarked'].fillna(data['Embarked'].mode()[0], inplace=True)\n",
    "data['Fare'].fillna(data['Fare'].median(), inplace=True)\n",
    "data['Cabin'].fillna('Unknown', inplace=True)\n",
    "\n",
    "label_encoder = LabelEncoder()\n",
    "data['Sex'] = label_encoder.fit_transform(data['Sex'])\n",
    "data['Embarked'] = label_encoder.fit_transform(data['Embarked'])\n",
    "\n",
    "# Select features and target variable\n",
    "X = data[['Pclass', 'Sex', 'Age', 'SibSp', 'Parch', 'Fare', 'Embarked']]\n",
    "y = data['Survived']\n",
    "\n",
    "# Split the data into training and testing sets\n",
    "X_train, X_test, y_train, y_test = train_test_split(X, y, test_size=0.2, random_state=42)\n",
    "\n",
    "# Perform feature selection using SelectKBest with logistic regression\n",
    "k_best = SelectKBest(score_func=f_classif, k=3)  # Choose the number of top features (e.g., 3)\n",
    "X_train_new = k_best.fit_transform(X_train, y_train)\n",
    "X_test_new = k_best.transform(X_test)\n",
    "\n",
    "# Train a logistic regression model on the selected features\n",
    "logistic_model = LogisticRegression()\n",
    "logistic_model.fit(X_train_new, y_train)\n",
    "\n",
    "# Make predictions on the test set\n",
    "y_pred = logistic_model.predict(X_test_new)\n",
    "\n",
    "# Evaluate the model's accuracy\n",
    "accuracy = accuracy_score(y_test, y_pred)\n",
    "print(f'Accuracy of the Logistic Regression model: {accuracy:.2f}')\n"
   ]
  },
  {
   "cell_type": "markdown",
   "id": "a10ffec5",
   "metadata": {},
   "source": [
    "# Wrapper (REF)"
   ]
  },
  {
   "cell_type": "code",
   "execution_count": 14,
   "id": "2a09e3f3",
   "metadata": {},
   "outputs": [
    {
     "name": "stdout",
     "output_type": "stream",
     "text": [
      "Accuracy of the Logistic Regression model with RFE: 0.77\n"
     ]
    }
   ],
   "source": [
    "import pandas as pd\n",
    "from sklearn.model_selection import train_test_split\n",
    "from sklearn.preprocessing import LabelEncoder\n",
    "from sklearn.feature_selection import RFE\n",
    "from sklearn.linear_model import LogisticRegression\n",
    "from sklearn.metrics import accuracy_score\n",
    "\n",
    "# Load the Titanic dataset (you can download it from https://www.kaggle.com/c/titanic/data)\n",
    "# Make sure to replace 'train.csv' with the path to your dataset file.\n",
    "data  =pd.read_csv(r'C:\\Users\\Ankit\\Desktop\\All folders\\BrainyBeam tasks\\train.csv')\n",
    "\n",
    "# Preprocessing: Handle missing values and encode categorical variables\n",
    "data['Age'].fillna(data['Age'].median(), inplace=True)\n",
    "data['Embarked'].fillna(data['Embarked'].mode()[0], inplace=True)\n",
    "data['Fare'].fillna(data['Fare'].median(), inplace=True)\n",
    "data['Cabin'].fillna('Unknown', inplace=True)\n",
    "\n",
    "label_encoder = LabelEncoder()\n",
    "data['Sex'] = label_encoder.fit_transform(data['Sex'])\n",
    "data['Embarked'] = label_encoder.fit_transform(data['Embarked'])\n",
    "\n",
    "# Select features and target variable\n",
    "X = data[['Pclass', 'Sex', 'Age', 'SibSp', 'Parch', 'Fare', 'Embarked']]\n",
    "y = data['Survived']\n",
    "\n",
    "# Split the data into training and testing sets\n",
    "X_train, X_test, y_train, y_test = train_test_split(X, y, test_size=0.2, random_state=42)\n",
    "\n",
    "# Create a logistic regression model\n",
    "logistic_model = LogisticRegression()\n",
    "\n",
    "# Create an RFE object with the logistic regression model\n",
    "rfe = RFE(estimator=logistic_model, n_features_to_select=3)  # Choose the number of features to select\n",
    "rfe.fit(X_train, y_train)\n",
    "\n",
    "# Get the selected features\n",
    "selected_features = X_train.columns[rfe.support_]\n",
    "\n",
    "# Train a logistic regression model on the selected features\n",
    "logistic_model.fit(X_train[selected_features], y_train)\n",
    "\n",
    "# Make predictions on the test set using the model with selected features\n",
    "y_pred = logistic_model.predict(X_test[selected_features])\n",
    "\n",
    "# Evaluate the model's accuracy\n",
    "accuracy = accuracy_score(y_test, y_pred)\n",
    "print(f'Accuracy of the Logistic Regression model with RFE: {accuracy:.2f}')\n"
   ]
  },
  {
   "cell_type": "markdown",
   "id": "823b9b68",
   "metadata": {},
   "source": [
    "# Hybrid technique"
   ]
  },
  {
   "cell_type": "code",
   "execution_count": 17,
   "id": "e6439523",
   "metadata": {},
   "outputs": [
    {
     "name": "stdout",
     "output_type": "stream",
     "text": [
      "Accuracy of the Logistic Regression model with hybrid feature selection: 0.77\n"
     ]
    }
   ],
   "source": [
    "import pandas as pd\n",
    "from sklearn.model_selection import train_test_split\n",
    "from sklearn.preprocessing import LabelEncoder\n",
    "from sklearn.feature_selection import SelectKBest, f_classif, RFE\n",
    "from sklearn.linear_model import LogisticRegression\n",
    "from sklearn.metrics import accuracy_score\n",
    "\n",
    "# Load and preprocess the Titanic dataset as shown in previous examples\n",
    "\n",
    "# Select features and target variable\n",
    "X = data[['Pclass', 'Sex', 'Age', 'SibSp', 'Parch', 'Fare', 'Embarked']]\n",
    "y = data['Survived']\n",
    "\n",
    "# Split the data into training and testing sets\n",
    "X_train, X_test, y_train, y_test = train_test_split(X, y, test_size=0.2, random_state=42)\n",
    "\n",
    "# Hybrid approach: SelectKBest as the filter step, followed by RFE as the wrapper step\n",
    "# SelectKBest with ANOVA F-statistic as a filter method\n",
    "k_best = SelectKBest(score_func=f_classif, k=5)\n",
    "X_train_k_best = k_best.fit_transform(X_train, y_train)\n",
    "\n",
    "# Create a logistic regression model\n",
    "logistic_model = LogisticRegression()\n",
    "\n",
    "# Use RFE for feature selection as the wrapper step\n",
    "rfe = RFE(estimator=logistic_model, n_features_to_select=3)\n",
    "X_train_rfe = rfe.fit_transform(X_train_k_best, y_train)\n",
    "\n",
    "# Train a logistic regression model on the selected features\n",
    "logistic_model.fit(X_train_rfe, y_train)\n",
    "\n",
    "# Transform the test data using the same feature selection steps\n",
    "X_test_k_best = k_best.transform(X_test)\n",
    "X_test_rfe = rfe.transform(X_test_k_best)\n",
    "\n",
    "# Make predictions on the test set\n",
    "y_pred = logistic_model.predict(X_test_rfe)\n",
    "\n",
    "# Evaluate the model's accuracy\n",
    "accuracy = accuracy_score(y_test, y_pred)\n",
    "print(f'Accuracy of the Logistic Regression model with hybrid feature selection: {accuracy:.2f}')\n"
   ]
  },
  {
   "cell_type": "markdown",
   "id": "d0d10820",
   "metadata": {},
   "source": [
    "# Embedded technique"
   ]
  },
  {
   "cell_type": "code",
   "execution_count": 19,
   "id": "b276ed00",
   "metadata": {},
   "outputs": [
    {
     "name": "stdout",
     "output_type": "stream",
     "text": [
      "Pclass: 0.0870\n",
      "Sex: 0.2714\n",
      "Age: 0.2500\n",
      "SibSp: 0.0537\n",
      "Parch: 0.0399\n",
      "Fare: 0.2650\n",
      "Embarked: 0.0330\n",
      "Accuracy of the Random Forest model: 0.82\n"
     ]
    }
   ],
   "source": [
    "import pandas as pd\n",
    "from sklearn.model_selection import train_test_split\n",
    "from sklearn.preprocessing import LabelEncoder\n",
    "from sklearn.ensemble import RandomForestClassifier\n",
    "from sklearn.metrics import accuracy_score\n",
    "\n",
    "# Load the Titanic dataset (you can download it from https://www.kaggle.com/c/titanic/data)\n",
    "# Make sure to replace 'train.csv' with the path to your dataset file.\n",
    "data  =pd.read_csv(r'C:\\Users\\Ankit\\Desktop\\All folders\\BrainyBeam tasks\\train.csv')\n",
    "\n",
    "# Preprocessing: Handle missing values and encode categorical variables\n",
    "data['Age'].fillna(data['Age'].median(), inplace=True)\n",
    "data['Embarked'].fillna(data['Embarked'].mode()[0], inplace=True)\n",
    "data['Fare'].fillna(data['Fare'].median(), inplace=True)\n",
    "data['Cabin'].fillna('Unknown', inplace=True)\n",
    "\n",
    "label_encoder = LabelEncoder()\n",
    "data['Sex'] = label_encoder.fit_transform(data['Sex'])\n",
    "data['Embarked'] = label_encoder.fit_transform(data['Embarked'])\n",
    "\n",
    "# Select features and target variable\n",
    "X = data[['Pclass', 'Sex', 'Age', 'SibSp', 'Parch', 'Fare', 'Embarked']]\n",
    "y = data['Survived']\n",
    "\n",
    "# Split the data into training and testing sets\n",
    "X_train, X_test, y_train, y_test = train_test_split(X, y, test_size=0.2, random_state=42)\n",
    "\n",
    "# Create a Random Forest classifier\n",
    "rf_classifier = RandomForestClassifier(n_estimators=100, random_state=42)\n",
    "\n",
    "# Fit the Random Forest model to your data\n",
    "rf_classifier.fit(X_train, y_train)\n",
    "\n",
    "# Get feature importances from the trained model\n",
    "feature_importances = rf_classifier.feature_importances_\n",
    "\n",
    "# Print feature importances\n",
    "for feature, importance in zip(X.columns, feature_importances):\n",
    "    print(f'{feature}: {importance:.4f}')\n",
    "\n",
    "# Make predictions on the test set\n",
    "y_pred = rf_classifier.predict(X_test)\n",
    "\n",
    "# Evaluate the model's accuracy\n",
    "accuracy = accuracy_score(y_test, y_pred)\n",
    "print(f'Accuracy of the Random Forest model: {accuracy:.2f}')\n"
   ]
  },
  {
   "cell_type": "code",
   "execution_count": 20,
   "id": "87a75cd0",
   "metadata": {},
   "outputs": [
    {
     "data": {
      "text/plain": [
       "array([0.08695697, 0.2714104 , 0.24999525, 0.05368549, 0.03989733,\n",
       "       0.26501031, 0.03304424])"
      ]
     },
     "execution_count": 20,
     "metadata": {},
     "output_type": "execute_result"
    }
   ],
   "source": [
    "feature_importances"
   ]
  },
  {
   "cell_type": "code",
   "execution_count": null,
   "id": "afb505d2",
   "metadata": {},
   "outputs": [],
   "source": []
  }
 ],
 "metadata": {
  "kernelspec": {
   "display_name": "Python 3 (ipykernel)",
   "language": "python",
   "name": "python3"
  },
  "language_info": {
   "codemirror_mode": {
    "name": "ipython",
    "version": 3
   },
   "file_extension": ".py",
   "mimetype": "text/x-python",
   "name": "python",
   "nbconvert_exporter": "python",
   "pygments_lexer": "ipython3",
   "version": "3.11.5"
  }
 },
 "nbformat": 4,
 "nbformat_minor": 5
}
