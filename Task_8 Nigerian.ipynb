{
 "cells": [
  {
   "cell_type": "code",
   "execution_count": 63,
   "id": "5514d46a",
   "metadata": {},
   "outputs": [],
   "source": [
    "import pandas as pd\n",
    "import numpy as np\n",
    "import matplotlib.pyplot as plt"
   ]
  },
  {
   "cell_type": "code",
   "execution_count": 64,
   "id": "8d78207f",
   "metadata": {},
   "outputs": [],
   "source": [
    "df=pd.read_csv(r\"C:\\Users\\Ankit\\Desktop\\BrainyBeam tasks\\Nigerian Graduates Destination Survey (2013 -2017) (Responses) - nigerian graduates survey 2018.csv\")"
   ]
  },
  {
   "cell_type": "code",
   "execution_count": 45,
   "id": "a8310556",
   "metadata": {},
   "outputs": [
    {
     "data": {
      "text/html": [
       "<div>\n",
       "<style scoped>\n",
       "    .dataframe tbody tr th:only-of-type {\n",
       "        vertical-align: middle;\n",
       "    }\n",
       "\n",
       "    .dataframe tbody tr th {\n",
       "        vertical-align: top;\n",
       "    }\n",
       "\n",
       "    .dataframe thead th {\n",
       "        text-align: right;\n",
       "    }\n",
       "</style>\n",
       "<table border=\"1\" class=\"dataframe\">\n",
       "  <thead>\n",
       "    <tr style=\"text-align: right;\">\n",
       "      <th></th>\n",
       "      <th>Timestamp</th>\n",
       "      <th>What is your gender</th>\n",
       "      <th>Year of graduation</th>\n",
       "      <th>Title of course studied</th>\n",
       "      <th>Polytechnic/University attended</th>\n",
       "      <th>What is your highest level of education?</th>\n",
       "      <th>What best describes your current status?</th>\n",
       "      <th>How many jobs have you had since graduation including your current one?</th>\n",
       "      <th>Have you completed your NYSC?</th>\n",
       "      <th>If you answered yes/ongoing to the previous question, what year did you (or will you) complete your NYSC?</th>\n",
       "      <th>...</th>\n",
       "      <th>What currency are you currently paid in?</th>\n",
       "      <th>Approximately how many hours a day do you currently work?</th>\n",
       "      <th>As far as you are aware, what was most important to your current employer about your qualification?</th>\n",
       "      <th>How do you find out about your job(s)?</th>\n",
       "      <th>Thinking about your current employment, did you work for your employer before or during your  higher education study?</th>\n",
       "      <th>Which form of transport do you use the most?</th>\n",
       "      <th>Were you able to rent an apartment or buy a car from the salary you got from your first job?</th>\n",
       "      <th>My course of study prepared me well for employment</th>\n",
       "      <th>My course of study prepared me well for further studies</th>\n",
       "      <th>Which of these skills/knowledge did your higher education prepare you for?</th>\n",
       "    </tr>\n",
       "  </thead>\n",
       "  <tbody>\n",
       "    <tr>\n",
       "      <th>0</th>\n",
       "      <td>2/8/2018 9:05:23</td>\n",
       "      <td>Male</td>\n",
       "      <td>2013</td>\n",
       "      <td>Electrical &amp; Electronic Engineering</td>\n",
       "      <td>Obafemi Awolowo University,Ile-Ife</td>\n",
       "      <td>Bachelor's degree</td>\n",
       "      <td>Working full time (paid employment)</td>\n",
       "      <td>3</td>\n",
       "      <td>NaN</td>\n",
       "      <td>NaN</td>\n",
       "      <td>...</td>\n",
       "      <td>Naira</td>\n",
       "      <td>8.0</td>\n",
       "      <td>No one thing was important</td>\n",
       "      <td>Internship</td>\n",
       "      <td>No</td>\n",
       "      <td>Bus</td>\n",
       "      <td>Yes: From my first job</td>\n",
       "      <td>No</td>\n",
       "      <td>No</td>\n",
       "      <td>Critical thinking skills, Ability to solve com...</td>\n",
       "    </tr>\n",
       "    <tr>\n",
       "      <th>1</th>\n",
       "      <td>2/15/2018 12:11:32</td>\n",
       "      <td>Male</td>\n",
       "      <td>2014</td>\n",
       "      <td>Psychology</td>\n",
       "      <td>Obafemi Awolowo University,Ile-Ife</td>\n",
       "      <td>Bachelor's degree</td>\n",
       "      <td>Working full time (paid employment)</td>\n",
       "      <td>2</td>\n",
       "      <td>Yes</td>\n",
       "      <td>2017.0</td>\n",
       "      <td>...</td>\n",
       "      <td>Naira</td>\n",
       "      <td>8.0</td>\n",
       "      <td>IT/SIWES/Internship experience (gained as part...</td>\n",
       "      <td>Internship</td>\n",
       "      <td>No</td>\n",
       "      <td>BRT</td>\n",
       "      <td>No: From my current job</td>\n",
       "      <td>Strongly Disagree</td>\n",
       "      <td>Agree</td>\n",
       "      <td>Critical thinking skills, Ability to solve com...</td>\n",
       "    </tr>\n",
       "    <tr>\n",
       "      <th>2</th>\n",
       "      <td>2/15/2018 13:47:10</td>\n",
       "      <td>Female</td>\n",
       "      <td>2013</td>\n",
       "      <td>Economics</td>\n",
       "      <td>Bells University of Technology, Otta</td>\n",
       "      <td>Bachelor's degree</td>\n",
       "      <td>Working full time (paid employment)</td>\n",
       "      <td>2</td>\n",
       "      <td>Yes</td>\n",
       "      <td>NaN</td>\n",
       "      <td>...</td>\n",
       "      <td>Naira</td>\n",
       "      <td>14.0</td>\n",
       "      <td>The subject(s) I studied</td>\n",
       "      <td>Employer's website</td>\n",
       "      <td>No</td>\n",
       "      <td>Uber/Taxify/Taxi services</td>\n",
       "      <td>No: From my current job</td>\n",
       "      <td>Disagree</td>\n",
       "      <td>Agree</td>\n",
       "      <td>Ability to work with others, Written communica...</td>\n",
       "    </tr>\n",
       "    <tr>\n",
       "      <th>3</th>\n",
       "      <td>2/16/2018 13:01:34</td>\n",
       "      <td>Male</td>\n",
       "      <td>2017</td>\n",
       "      <td>Mass Communication (Communication and Language...</td>\n",
       "      <td>Bowen University, Iwo</td>\n",
       "      <td>Master's degree</td>\n",
       "      <td>Self-employed/freelance/entrepreneur</td>\n",
       "      <td>0</td>\n",
       "      <td>Yes</td>\n",
       "      <td>NaN</td>\n",
       "      <td>...</td>\n",
       "      <td>NaN</td>\n",
       "      <td>NaN</td>\n",
       "      <td>NaN</td>\n",
       "      <td>NaN</td>\n",
       "      <td>NaN</td>\n",
       "      <td>NaN</td>\n",
       "      <td>NaN</td>\n",
       "      <td>NaN</td>\n",
       "      <td>NaN</td>\n",
       "      <td>NaN</td>\n",
       "    </tr>\n",
       "    <tr>\n",
       "      <th>4</th>\n",
       "      <td>2/16/2018 13:18:03</td>\n",
       "      <td>Female</td>\n",
       "      <td>2013</td>\n",
       "      <td>Statistics</td>\n",
       "      <td>Ekiti State University</td>\n",
       "      <td>Bachelor's degree</td>\n",
       "      <td>Working full time (paid employment)</td>\n",
       "      <td>3</td>\n",
       "      <td>Yes</td>\n",
       "      <td>2016.0</td>\n",
       "      <td>...</td>\n",
       "      <td>Naira</td>\n",
       "      <td>8.0</td>\n",
       "      <td>IT/SIWES/Internship experience (gained as part...</td>\n",
       "      <td>Personal contacts, including family and friends</td>\n",
       "      <td>No</td>\n",
       "      <td>Commercial Vehicles</td>\n",
       "      <td>No</td>\n",
       "      <td>Agree</td>\n",
       "      <td>Agree</td>\n",
       "      <td>Critical thinking skills</td>\n",
       "    </tr>\n",
       "  </tbody>\n",
       "</table>\n",
       "<p>5 rows × 36 columns</p>\n",
       "</div>"
      ],
      "text/plain": [
       "            Timestamp What is your gender  Year of graduation  \\\n",
       "0    2/8/2018 9:05:23                Male                2013   \n",
       "1  2/15/2018 12:11:32                Male                2014   \n",
       "2  2/15/2018 13:47:10              Female                2013   \n",
       "3  2/16/2018 13:01:34                Male                2017   \n",
       "4  2/16/2018 13:18:03              Female                2013   \n",
       "\n",
       "                             Title of course studied  \\\n",
       "0                Electrical & Electronic Engineering   \n",
       "1                                         Psychology   \n",
       "2                                          Economics   \n",
       "3  Mass Communication (Communication and Language...   \n",
       "4                                         Statistics   \n",
       "\n",
       "        Polytechnic/University attended  \\\n",
       "0    Obafemi Awolowo University,Ile-Ife   \n",
       "1    Obafemi Awolowo University,Ile-Ife   \n",
       "2  Bells University of Technology, Otta   \n",
       "3                 Bowen University, Iwo   \n",
       "4                Ekiti State University   \n",
       "\n",
       "  What is your highest level of education?  \\\n",
       "0                        Bachelor's degree   \n",
       "1                        Bachelor's degree   \n",
       "2                        Bachelor's degree   \n",
       "3                          Master's degree   \n",
       "4                        Bachelor's degree   \n",
       "\n",
       "  What best describes your current status?  \\\n",
       "0      Working full time (paid employment)   \n",
       "1      Working full time (paid employment)   \n",
       "2      Working full time (paid employment)   \n",
       "3     Self-employed/freelance/entrepreneur   \n",
       "4      Working full time (paid employment)   \n",
       "\n",
       "   How many jobs have you had since graduation including your current one?  \\\n",
       "0                                                  3                         \n",
       "1                                                  2                         \n",
       "2                                                  2                         \n",
       "3                                                  0                         \n",
       "4                                                  3                         \n",
       "\n",
       "  Have you completed your NYSC?  \\\n",
       "0                           NaN   \n",
       "1                           Yes   \n",
       "2                           Yes   \n",
       "3                           Yes   \n",
       "4                           Yes   \n",
       "\n",
       "   If you answered yes/ongoing to the previous question, what year did you (or will you) complete your NYSC?  \\\n",
       "0                                                NaN                                                           \n",
       "1                                             2017.0                                                           \n",
       "2                                                NaN                                                           \n",
       "3                                                NaN                                                           \n",
       "4                                             2016.0                                                           \n",
       "\n",
       "   ... What currency are you currently paid in?  \\\n",
       "0  ...                                    Naira   \n",
       "1  ...                                    Naira   \n",
       "2  ...                                    Naira   \n",
       "3  ...                                      NaN   \n",
       "4  ...                                    Naira   \n",
       "\n",
       "  Approximately how many hours a day do you currently work?  \\\n",
       "0                                                8.0          \n",
       "1                                                8.0          \n",
       "2                                               14.0          \n",
       "3                                                NaN          \n",
       "4                                                8.0          \n",
       "\n",
       "  As far as you are aware, what was most important to your current employer about your qualification?  \\\n",
       "0                         No one thing was important                                                    \n",
       "1  IT/SIWES/Internship experience (gained as part...                                                    \n",
       "2                           The subject(s) I studied                                                    \n",
       "3                                                NaN                                                    \n",
       "4  IT/SIWES/Internship experience (gained as part...                                                    \n",
       "\n",
       "            How do you find out about your job(s)?  \\\n",
       "0                                       Internship   \n",
       "1                                       Internship   \n",
       "2                               Employer's website   \n",
       "3                                              NaN   \n",
       "4  Personal contacts, including family and friends   \n",
       "\n",
       "  Thinking about your current employment, did you work for your employer before or during your  higher education study?  \\\n",
       "0                                                 No                                                                      \n",
       "1                                                 No                                                                      \n",
       "2                                                 No                                                                      \n",
       "3                                                NaN                                                                      \n",
       "4                                                 No                                                                      \n",
       "\n",
       "  Which form of transport do you use the most?  \\\n",
       "0                                          Bus   \n",
       "1                                          BRT   \n",
       "2                    Uber/Taxify/Taxi services   \n",
       "3                                          NaN   \n",
       "4                          Commercial Vehicles   \n",
       "\n",
       "  Were you able to rent an apartment or buy a car from the salary you got from your first job?  \\\n",
       "0                             Yes: From my first job                                             \n",
       "1                            No: From my current job                                             \n",
       "2                            No: From my current job                                             \n",
       "3                                                NaN                                             \n",
       "4                                                 No                                             \n",
       "\n",
       "  My course of study prepared me well for employment  \\\n",
       "0                                                 No   \n",
       "1                                  Strongly Disagree   \n",
       "2                                           Disagree   \n",
       "3                                                NaN   \n",
       "4                                              Agree   \n",
       "\n",
       "  My course of study prepared me well for further studies  \\\n",
       "0                                                 No        \n",
       "1                                              Agree        \n",
       "2                                              Agree        \n",
       "3                                                NaN        \n",
       "4                                              Agree        \n",
       "\n",
       "  Which of these skills/knowledge did your higher education prepare you for?  \n",
       "0  Critical thinking skills, Ability to solve com...                          \n",
       "1  Critical thinking skills, Ability to solve com...                          \n",
       "2  Ability to work with others, Written communica...                          \n",
       "3                                                NaN                          \n",
       "4                           Critical thinking skills                          \n",
       "\n",
       "[5 rows x 36 columns]"
      ]
     },
     "execution_count": 45,
     "metadata": {},
     "output_type": "execute_result"
    }
   ],
   "source": [
    "df.head()"
   ]
  },
  {
   "cell_type": "code",
   "execution_count": 268,
   "id": "feba83c6",
   "metadata": {},
   "outputs": [
    {
     "data": {
      "text/plain": [
       "False    3432\n",
       "True     1787\n",
       "Name: What currency are you currently paid in?, dtype: int64"
      ]
     },
     "execution_count": 268,
     "metadata": {},
     "output_type": "execute_result"
    }
   ],
   "source": [
    "df['What currency are you currently paid in?'].isnull().value_counts()"
   ]
  },
  {
   "cell_type": "code",
   "execution_count": 269,
   "id": "6b4b6e48",
   "metadata": {},
   "outputs": [
    {
     "data": {
      "text/plain": [
       "False    5219\n",
       "Name: What is your gender, dtype: int64"
      ]
     },
     "execution_count": 269,
     "metadata": {},
     "output_type": "execute_result"
    }
   ],
   "source": [
    "\n",
    "df['What is your gender'].isnull().value_counts()"
   ]
  },
  {
   "cell_type": "code",
   "execution_count": 270,
   "id": "aa1c966b",
   "metadata": {},
   "outputs": [
    {
     "data": {
      "text/plain": [
       "0       ‎₦200,000 - ‎₦249,999\n",
       "1       ‎₦100,000 - ‎₦149,999\n",
       "2       ‎₦200,000 - ‎₦249,999\n",
       "3                         NaN\n",
       "4       ‎₦100,000 - ‎₦149,999\n",
       "                ...          \n",
       "5214      ‎₦50,000 - ‎₦99,999\n",
       "5215                      NaN\n",
       "5216    ‎₦100,000 - ‎₦149,999\n",
       "5217           Under ‎₦20,000\n",
       "5218                      NaN\n",
       "Name: What is your current monthly income level?, Length: 5219, dtype: object"
      ]
     },
     "execution_count": 270,
     "metadata": {},
     "output_type": "execute_result"
    }
   ],
   "source": [
    "df['What is your current monthly income level?']"
   ]
  },
  {
   "cell_type": "code",
   "execution_count": 72,
   "id": "dd84e510",
   "metadata": {},
   "outputs": [],
   "source": [
    "df=df.fillna(0)"
   ]
  },
  {
   "cell_type": "code",
   "execution_count": 272,
   "id": "484eaae2",
   "metadata": {},
   "outputs": [
    {
     "data": {
      "text/plain": [
       "Timestamp                                                                                                                       5219\n",
       "What is your gender                                                                                                             5219\n",
       "Year of graduation                                                                                                              5219\n",
       "Title of course studied                                                                                                         5219\n",
       "Polytechnic/University attended                                                                                                 5219\n",
       "What is your highest level of education?                                                                                        5219\n",
       "What best describes your current status?                                                                                        5219\n",
       "How many jobs have you had since graduation including your current one?                                                         5219\n",
       "Have you completed your NYSC?                                                                                                   5219\n",
       "If you answered yes/ongoing to the previous question, what year did you (or will you) complete your NYSC?                       5219\n",
       "Did you get your first full time job through your NYSC placement?                                                               5219\n",
       "Thinking about your first employment after graduation, what was your job level?                                                 5219\n",
       "What is/was your job role?                                                                                                      5219\n",
       "What sector/industry is your company in? (E.g. Banking, Agriculture, Telecommunication)                                         5219\n",
       "Still thinking about your first employment, what is/was your monthly income level?                                              5219\n",
       "Did you need your higher education qualification to get your first job (the actual qualification, not the subject of study)?    5219\n",
       "What was the most significant reason for deciding to take your first job?                                                       5219\n",
       "Thinking about your current employment, what is your job level?                                                                 5219\n",
       "What is your job role?                                                                                                          5219\n",
       "What sector/industry is your company in? (E.g. Banking, Agriculture, Telecommunication).1                                       5219\n",
       "What is your current monthly income level?                                                                                      5219\n",
       "Did you need your higher education qualification to get this job (the actual qualification, not the subject of study)?          5219\n",
       "What was the most significant reason for deciding to take this job?                                                             5219\n",
       "Which employer in the country do you think offers the best opportunities for graduates?                                         5219\n",
       "Reason why?                                                                                                                     5219\n",
       "Which sector is your most preferred sector to work in?                                                                          5219\n",
       "What currency are you currently paid in?                                                                                        5219\n",
       "Approximately how many hours a day do you currently work?                                                                       5219\n",
       "As far as you are aware, what was most important to your current employer about your qualification?                             5219\n",
       "How do you find out about your job(s)?                                                                                          5219\n",
       "Thinking about your current employment, did you work for your employer before or during your  higher education study?           5219\n",
       "Which form of transport do you use the most?                                                                                    5219\n",
       "Were you able to rent an apartment or buy a car from the salary you got from your first job?                                    5219\n",
       "My course of study prepared me well for employment                                                                              5219\n",
       "My course of study prepared me well for further studies                                                                         5219\n",
       "Which of these skills/knowledge did your higher education prepare you for?                                                      5219\n",
       "dtype: int64"
      ]
     },
     "execution_count": 272,
     "metadata": {},
     "output_type": "execute_result"
    }
   ],
   "source": [
    "df.isnull().count()"
   ]
  },
  {
   "cell_type": "code",
   "execution_count": 273,
   "id": "01d261fb",
   "metadata": {},
   "outputs": [],
   "source": [
    "gender=df['What is your gender'].value_counts()"
   ]
  },
  {
   "cell_type": "code",
   "execution_count": 274,
   "id": "5462ab82",
   "metadata": {},
   "outputs": [
    {
     "data": {
      "text/plain": [
       "Male                 2624\n",
       "Female               2592\n",
       "Prefer not to say       3\n",
       "Name: What is your gender, dtype: int64"
      ]
     },
     "execution_count": 274,
     "metadata": {},
     "output_type": "execute_result"
    }
   ],
   "source": [
    "gender"
   ]
  },
  {
   "cell_type": "code",
   "execution_count": 275,
   "id": "64b7822f",
   "metadata": {},
   "outputs": [
    {
     "data": {
      "text/plain": [
       "[Text(0, 0, 'Male'), Text(1, 0, 'Female'), Text(2, 0, 'Prefer not to say')]"
      ]
     },
     "execution_count": 275,
     "metadata": {},
     "output_type": "execute_result"
    },
    {
     "data": {
      "image/png": "[encoded data removed]",
      "text/plain": [
       "<Figure size 504x432 with 1 Axes>"
      ]
     },
     "metadata": {
      "needs_background": "light"
     },
     "output_type": "display_data"
    }
   ],
   "source": [
    "plt.figure(figsize=(7, 6))\n",
    "x = gender.plot(kind='bar', rot=0, color=\"c\")\n",
    "x.set_title(\"Bar Graph of Gender\", y = 1)\n",
    "x.set_xlabel('Gender')\n",
    "x.set_ylabel('Number of People')\n",
    "x.set_xticklabels(('Male', 'Female','Prefer not to say'))\n"
   ]
  },
  {
   "cell_type": "code",
   "execution_count": 276,
   "id": "ae646aa9",
   "metadata": {},
   "outputs": [],
   "source": [
    "current_status=df['My course of study prepared me well for employment'].value_counts()"
   ]
  },
  {
   "cell_type": "code",
   "execution_count": 277,
   "id": "3852b8ff",
   "metadata": {},
   "outputs": [
    {
     "data": {
      "text/plain": [
       "0                    1787\n",
       "Agree                1574\n",
       "Strongly Agree        808\n",
       "Disagree              640\n",
       "Strongly Disagree     409\n",
       "No                      1\n",
       "Name: My course of study prepared me well for employment, dtype: int64"
      ]
     },
     "execution_count": 277,
     "metadata": {},
     "output_type": "execute_result"
    }
   ],
   "source": [
    "current_status"
   ]
  },
  {
   "cell_type": "code",
   "execution_count": 278,
   "id": "f9fd53aa",
   "metadata": {},
   "outputs": [
    {
     "data": {
      "image/png": "[encoded data removed]",
      "text/plain": [
       "<Figure size 1152x648 with 2 Axes>"
      ]
     },
     "metadata": {
      "needs_background": "light"
     },
     "output_type": "display_data"
    }
   ],
   "source": [
    "fig,(ax)=plt.subplots(ncols=2,figsize=(16,9))\n",
    "# plt.figure(figsize=(7, 5))\n",
    "# x = gender.plot(kind='bar', rot=0, color=\"c\")\n",
    "# x.set_title(\"Bar Graph of Gender\", y = 1)\n",
    "# x.set_xlabel('Gender')\n",
    "# x.set_ylabel('Number of People')\n",
    "# plt.subplot(1,1,1)\n",
    "# plt.figure(figsize=(7,5))\n",
    "# y=current_status.plot(kind='bar', rot=0, color=\"c\")\n",
    "# y.set_title(\"Bar Graph of Gender\", y = 1)\n",
    "# y.set_xlabel('Gender')\n",
    "# y.set_ylabel('Number of People')\n",
    "gender=df['What is your gender'].value_counts()\n",
    "current_status=df['My course of study prepared me well for employment'].value_counts()\n",
    "gender.plot.bar(ax=ax[0], color=\"red\")\n",
    "current_status.plot.bar(ax=ax[1], color=\"c\")\n",
    "plt.show()"
   ]
  },
  {
   "cell_type": "code",
   "execution_count": 65,
   "id": "07e29820",
   "metadata": {},
   "outputs": [],
   "source": [
    "df=df.drop(['Timestamp', 'What is your gender','Title of course studied','Have you completed your NYSC?'], axis=1)"
   ]
  },
  {
   "cell_type": "code",
   "execution_count": 66,
   "id": "a2cbf955",
   "metadata": {},
   "outputs": [],
   "source": [
    "df=df.drop(df.iloc[:,0:4],axis=1)"
   ]
  },
  {
   "cell_type": "code",
   "execution_count": 67,
   "id": "ac0873d7",
   "metadata": {},
   "outputs": [],
   "source": [
    "df=df.drop(df.iloc[:,2:11],axis=1)"
   ]
  },
  {
   "cell_type": "code",
   "execution_count": 68,
   "id": "c64a95e5",
   "metadata": {},
   "outputs": [],
   "source": [
    "df=df.drop(df.iloc[:,2:10],axis=1)"
   ]
  },
  {
   "cell_type": "code",
   "execution_count": 69,
   "id": "679b0d4c",
   "metadata": {},
   "outputs": [],
   "source": [
    "df=df.drop(df.iloc[:,3:11],axis=1)"
   ]
  },
  {
   "cell_type": "code",
   "execution_count": 54,
   "id": "c690699a",
   "metadata": {},
   "outputs": [
    {
     "data": {
      "text/html": [
       "<div>\n",
       "<style scoped>\n",
       "    .dataframe tbody tr th:only-of-type {\n",
       "        vertical-align: middle;\n",
       "    }\n",
       "\n",
       "    .dataframe tbody tr th {\n",
       "        vertical-align: top;\n",
       "    }\n",
       "\n",
       "    .dataframe thead th {\n",
       "        text-align: right;\n",
       "    }\n",
       "</style>\n",
       "<table border=\"1\" class=\"dataframe\">\n",
       "  <thead>\n",
       "    <tr style=\"text-align: right;\">\n",
       "      <th></th>\n",
       "      <th>How many jobs have you had since graduation including your current one?</th>\n",
       "      <th>If you answered yes/ongoing to the previous question, what year did you (or will you) complete your NYSC?</th>\n",
       "      <th>Approximately how many hours a day do you currently work?</th>\n",
       "    </tr>\n",
       "  </thead>\n",
       "  <tbody>\n",
       "    <tr>\n",
       "      <th>0</th>\n",
       "      <td>3</td>\n",
       "      <td>0.0</td>\n",
       "      <td>8.0</td>\n",
       "    </tr>\n",
       "    <tr>\n",
       "      <th>1</th>\n",
       "      <td>2</td>\n",
       "      <td>2017.0</td>\n",
       "      <td>8.0</td>\n",
       "    </tr>\n",
       "    <tr>\n",
       "      <th>2</th>\n",
       "      <td>2</td>\n",
       "      <td>0.0</td>\n",
       "      <td>14.0</td>\n",
       "    </tr>\n",
       "    <tr>\n",
       "      <th>3</th>\n",
       "      <td>0</td>\n",
       "      <td>0.0</td>\n",
       "      <td>0.0</td>\n",
       "    </tr>\n",
       "    <tr>\n",
       "      <th>4</th>\n",
       "      <td>3</td>\n",
       "      <td>2016.0</td>\n",
       "      <td>8.0</td>\n",
       "    </tr>\n",
       "    <tr>\n",
       "      <th>...</th>\n",
       "      <td>...</td>\n",
       "      <td>...</td>\n",
       "      <td>...</td>\n",
       "    </tr>\n",
       "    <tr>\n",
       "      <th>5214</th>\n",
       "      <td>1</td>\n",
       "      <td>2016.0</td>\n",
       "      <td>10.0</td>\n",
       "    </tr>\n",
       "    <tr>\n",
       "      <th>5215</th>\n",
       "      <td>0</td>\n",
       "      <td>0.0</td>\n",
       "      <td>0.0</td>\n",
       "    </tr>\n",
       "    <tr>\n",
       "      <th>5216</th>\n",
       "      <td>1</td>\n",
       "      <td>2015.0</td>\n",
       "      <td>8.0</td>\n",
       "    </tr>\n",
       "    <tr>\n",
       "      <th>5217</th>\n",
       "      <td>2</td>\n",
       "      <td>2017.0</td>\n",
       "      <td>8.0</td>\n",
       "    </tr>\n",
       "    <tr>\n",
       "      <th>5218</th>\n",
       "      <td>0</td>\n",
       "      <td>2018.0</td>\n",
       "      <td>0.0</td>\n",
       "    </tr>\n",
       "  </tbody>\n",
       "</table>\n",
       "<p>5219 rows × 3 columns</p>\n",
       "</div>"
      ],
      "text/plain": [
       "      How many jobs have you had since graduation including your current one?  \\\n",
       "0                                                     3                         \n",
       "1                                                     2                         \n",
       "2                                                     2                         \n",
       "3                                                     0                         \n",
       "4                                                     3                         \n",
       "...                                                 ...                         \n",
       "5214                                                  1                         \n",
       "5215                                                  0                         \n",
       "5216                                                  1                         \n",
       "5217                                                  2                         \n",
       "5218                                                  0                         \n",
       "\n",
       "      If you answered yes/ongoing to the previous question, what year did you (or will you) complete your NYSC?  \\\n",
       "0                                                   0.0                                                           \n",
       "1                                                2017.0                                                           \n",
       "2                                                   0.0                                                           \n",
       "3                                                   0.0                                                           \n",
       "4                                                2016.0                                                           \n",
       "...                                                 ...                                                           \n",
       "5214                                             2016.0                                                           \n",
       "5215                                                0.0                                                           \n",
       "5216                                             2015.0                                                           \n",
       "5217                                             2017.0                                                           \n",
       "5218                                             2018.0                                                           \n",
       "\n",
       "      Approximately how many hours a day do you currently work?  \n",
       "0                                                   8.0          \n",
       "1                                                   8.0          \n",
       "2                                                  14.0          \n",
       "3                                                   0.0          \n",
       "4                                                   8.0          \n",
       "...                                                 ...          \n",
       "5214                                               10.0          \n",
       "5215                                                0.0          \n",
       "5216                                                8.0          \n",
       "5217                                                8.0          \n",
       "5218                                                0.0          \n",
       "\n",
       "[5219 rows x 3 columns]"
      ]
     },
     "execution_count": 54,
     "metadata": {},
     "output_type": "execute_result"
    }
   ],
   "source": [
    "df"
   ]
  },
  {
   "cell_type": "code",
   "execution_count": 93,
   "id": "88f3412a",
   "metadata": {},
   "outputs": [
    {
     "data": {
      "text/html": [
       "<div>\n",
       "<style scoped>\n",
       "    .dataframe tbody tr th:only-of-type {\n",
       "        vertical-align: middle;\n",
       "    }\n",
       "\n",
       "    .dataframe tbody tr th {\n",
       "        vertical-align: top;\n",
       "    }\n",
       "\n",
       "    .dataframe thead th {\n",
       "        text-align: right;\n",
       "    }\n",
       "</style>\n",
       "<table border=\"1\" class=\"dataframe\">\n",
       "  <thead>\n",
       "    <tr style=\"text-align: right;\">\n",
       "      <th></th>\n",
       "      <th>How many jobs have you had since graduation including your current one?</th>\n",
       "      <th>If you answered yes/ongoing to the previous question, what year did you (or will you) complete your NYSC?</th>\n",
       "    </tr>\n",
       "  </thead>\n",
       "  <tbody>\n",
       "    <tr>\n",
       "      <th>0</th>\n",
       "      <td>3</td>\n",
       "      <td>0</td>\n",
       "    </tr>\n",
       "    <tr>\n",
       "      <th>1</th>\n",
       "      <td>2</td>\n",
       "      <td>2017</td>\n",
       "    </tr>\n",
       "    <tr>\n",
       "      <th>2</th>\n",
       "      <td>2</td>\n",
       "      <td>0</td>\n",
       "    </tr>\n",
       "    <tr>\n",
       "      <th>3</th>\n",
       "      <td>0</td>\n",
       "      <td>0</td>\n",
       "    </tr>\n",
       "    <tr>\n",
       "      <th>4</th>\n",
       "      <td>3</td>\n",
       "      <td>2016</td>\n",
       "    </tr>\n",
       "    <tr>\n",
       "      <th>...</th>\n",
       "      <td>...</td>\n",
       "      <td>...</td>\n",
       "    </tr>\n",
       "    <tr>\n",
       "      <th>5214</th>\n",
       "      <td>1</td>\n",
       "      <td>2016</td>\n",
       "    </tr>\n",
       "    <tr>\n",
       "      <th>5215</th>\n",
       "      <td>0</td>\n",
       "      <td>0</td>\n",
       "    </tr>\n",
       "    <tr>\n",
       "      <th>5216</th>\n",
       "      <td>1</td>\n",
       "      <td>2015</td>\n",
       "    </tr>\n",
       "    <tr>\n",
       "      <th>5217</th>\n",
       "      <td>2</td>\n",
       "      <td>2017</td>\n",
       "    </tr>\n",
       "    <tr>\n",
       "      <th>5218</th>\n",
       "      <td>0</td>\n",
       "      <td>2018</td>\n",
       "    </tr>\n",
       "  </tbody>\n",
       "</table>\n",
       "<p>5219 rows × 2 columns</p>\n",
       "</div>"
      ],
      "text/plain": [
       "      How many jobs have you had since graduation including your current one?  \\\n",
       "0                                                     3                         \n",
       "1                                                     2                         \n",
       "2                                                     2                         \n",
       "3                                                     0                         \n",
       "4                                                     3                         \n",
       "...                                                 ...                         \n",
       "5214                                                  1                         \n",
       "5215                                                  0                         \n",
       "5216                                                  1                         \n",
       "5217                                                  2                         \n",
       "5218                                                  0                         \n",
       "\n",
       "      If you answered yes/ongoing to the previous question, what year did you (or will you) complete your NYSC?  \n",
       "0                                                     0                                                          \n",
       "1                                                  2017                                                          \n",
       "2                                                     0                                                          \n",
       "3                                                     0                                                          \n",
       "4                                                  2016                                                          \n",
       "...                                                 ...                                                          \n",
       "5214                                               2016                                                          \n",
       "5215                                                  0                                                          \n",
       "5216                                               2015                                                          \n",
       "5217                                               2017                                                          \n",
       "5218                                               2018                                                          \n",
       "\n",
       "[5219 rows x 2 columns]"
      ]
     },
     "execution_count": 93,
     "metadata": {},
     "output_type": "execute_result"
    }
   ],
   "source": [
    "df.iloc[:,0:2]"
   ]
  },
  {
   "cell_type": "code",
   "execution_count": 70,
   "id": "fea159cc",
   "metadata": {},
   "outputs": [],
   "source": [
    "from sklearn.model_selection import train_test_split\n"
   ]
  },
  {
   "cell_type": "code",
   "execution_count": 73,
   "id": "7a0f14ec",
   "metadata": {},
   "outputs": [],
   "source": [
    "df['If you answered yes/ongoing to the previous question, what year did you (or will you) complete your NYSC?']=df['If you answered yes/ongoing to the previous question, what year did you (or will you) complete your NYSC?'].astype(int)"
   ]
  },
  {
   "cell_type": "code",
   "execution_count": 57,
   "id": "cb87d85f",
   "metadata": {},
   "outputs": [],
   "source": [
    "x_train,x_test,y_train,y_test=train_test_split(df['If you answered yes/ongoing to the previous question, what year did you (or will you) complete your NYSC?'],df['If you answered yes/ongoing to the previous question, what year did you (or will you) complete your NYSC?'],test_size=0.2,random_state=0)"
   ]
  },
  {
   "cell_type": "code",
   "execution_count": 113,
   "id": "97bb578c",
   "metadata": {},
   "outputs": [
    {
     "data": {
      "text/html": [
       "<div>\n",
       "<style scoped>\n",
       "    .dataframe tbody tr th:only-of-type {\n",
       "        vertical-align: middle;\n",
       "    }\n",
       "\n",
       "    .dataframe tbody tr th {\n",
       "        vertical-align: top;\n",
       "    }\n",
       "\n",
       "    .dataframe thead th {\n",
       "        text-align: right;\n",
       "    }\n",
       "</style>\n",
       "<table border=\"1\" class=\"dataframe\">\n",
       "  <thead>\n",
       "    <tr style=\"text-align: right;\">\n",
       "      <th></th>\n",
       "      <th>How many jobs have you had since graduation including your current one?</th>\n",
       "      <th>If you answered yes/ongoing to the previous question, what year did you (or will you) complete your NYSC?</th>\n",
       "      <th>Approximately how many hours a day do you currently work?</th>\n",
       "    </tr>\n",
       "  </thead>\n",
       "  <tbody>\n",
       "    <tr>\n",
       "      <th>0</th>\n",
       "      <td>3</td>\n",
       "      <td>0</td>\n",
       "      <td>8</td>\n",
       "    </tr>\n",
       "    <tr>\n",
       "      <th>1</th>\n",
       "      <td>2</td>\n",
       "      <td>2017</td>\n",
       "      <td>8</td>\n",
       "    </tr>\n",
       "    <tr>\n",
       "      <th>2</th>\n",
       "      <td>2</td>\n",
       "      <td>0</td>\n",
       "      <td>14</td>\n",
       "    </tr>\n",
       "    <tr>\n",
       "      <th>3</th>\n",
       "      <td>0</td>\n",
       "      <td>0</td>\n",
       "      <td>0</td>\n",
       "    </tr>\n",
       "    <tr>\n",
       "      <th>4</th>\n",
       "      <td>3</td>\n",
       "      <td>2016</td>\n",
       "      <td>8</td>\n",
       "    </tr>\n",
       "    <tr>\n",
       "      <th>...</th>\n",
       "      <td>...</td>\n",
       "      <td>...</td>\n",
       "      <td>...</td>\n",
       "    </tr>\n",
       "    <tr>\n",
       "      <th>5214</th>\n",
       "      <td>1</td>\n",
       "      <td>2016</td>\n",
       "      <td>10</td>\n",
       "    </tr>\n",
       "    <tr>\n",
       "      <th>5215</th>\n",
       "      <td>0</td>\n",
       "      <td>0</td>\n",
       "      <td>0</td>\n",
       "    </tr>\n",
       "    <tr>\n",
       "      <th>5216</th>\n",
       "      <td>1</td>\n",
       "      <td>2015</td>\n",
       "      <td>8</td>\n",
       "    </tr>\n",
       "    <tr>\n",
       "      <th>5217</th>\n",
       "      <td>2</td>\n",
       "      <td>2017</td>\n",
       "      <td>8</td>\n",
       "    </tr>\n",
       "    <tr>\n",
       "      <th>5218</th>\n",
       "      <td>0</td>\n",
       "      <td>2018</td>\n",
       "      <td>0</td>\n",
       "    </tr>\n",
       "  </tbody>\n",
       "</table>\n",
       "<p>5219 rows × 3 columns</p>\n",
       "</div>"
      ],
      "text/plain": [
       "      How many jobs have you had since graduation including your current one?  \\\n",
       "0                                                     3                         \n",
       "1                                                     2                         \n",
       "2                                                     2                         \n",
       "3                                                     0                         \n",
       "4                                                     3                         \n",
       "...                                                 ...                         \n",
       "5214                                                  1                         \n",
       "5215                                                  0                         \n",
       "5216                                                  1                         \n",
       "5217                                                  2                         \n",
       "5218                                                  0                         \n",
       "\n",
       "      If you answered yes/ongoing to the previous question, what year did you (or will you) complete your NYSC?  \\\n",
       "0                                                     0                                                           \n",
       "1                                                  2017                                                           \n",
       "2                                                     0                                                           \n",
       "3                                                     0                                                           \n",
       "4                                                  2016                                                           \n",
       "...                                                 ...                                                           \n",
       "5214                                               2016                                                           \n",
       "5215                                                  0                                                           \n",
       "5216                                               2015                                                           \n",
       "5217                                               2017                                                           \n",
       "5218                                               2018                                                           \n",
       "\n",
       "      Approximately how many hours a day do you currently work?  \n",
       "0                                                     8          \n",
       "1                                                     8          \n",
       "2                                                    14          \n",
       "3                                                     0          \n",
       "4                                                     8          \n",
       "...                                                 ...          \n",
       "5214                                                 10          \n",
       "5215                                                  0          \n",
       "5216                                                  8          \n",
       "5217                                                  8          \n",
       "5218                                                  0          \n",
       "\n",
       "[5219 rows x 3 columns]"
      ]
     },
     "execution_count": 113,
     "metadata": {},
     "output_type": "execute_result"
    }
   ],
   "source": [
    "df"
   ]
  },
  {
   "cell_type": "code",
   "execution_count": 74,
   "id": "08f92a5c",
   "metadata": {},
   "outputs": [
    {
     "data": {
      "text/plain": [
       "((4175,), (1044,))"
      ]
     },
     "execution_count": 74,
     "metadata": {},
     "output_type": "execute_result"
    }
   ],
   "source": [
    "x_train.shape,x_test.shape"
   ]
  },
  {
   "cell_type": "code",
   "execution_count": 114,
   "id": "a1739b0f",
   "metadata": {},
   "outputs": [],
   "source": [
    "from sklearn.preprocessing import StandardScaler"
   ]
  },
  {
   "cell_type": "code",
   "execution_count": 115,
   "id": "59067e01",
   "metadata": {},
   "outputs": [],
   "source": [
    "scaler=StandardScaler()"
   ]
  },
  {
   "cell_type": "code",
   "execution_count": 77,
   "id": "7539e903",
   "metadata": {},
   "outputs": [],
   "source": [
    "x_train = x_train.values.reshape(-1, 1)\n",
    "y_train = y_train.values.reshape(-1, 1)\n",
    "x_test = x_test.values.reshape(-1, 1)\n",
    "y_test = y_test.values.reshape(-1, 1)"
   ]
  },
  {
   "cell_type": "code",
   "execution_count": 116,
   "id": "ecf0371d",
   "metadata": {},
   "outputs": [
    {
     "data": {
      "text/plain": [
       "StandardScaler()"
      ]
     },
     "execution_count": 116,
     "metadata": {},
     "output_type": "execute_result"
    }
   ],
   "source": [
    "scaler.fit(x_train)\n"
   ]
  },
  {
   "cell_type": "code",
   "execution_count": 117,
   "id": "5627f3c9",
   "metadata": {},
   "outputs": [],
   "source": [
    "df['Approximately how many hours a day do you currently work?']=df['Approximately how many hours a day do you currently work?'].astype(int)"
   ]
  },
  {
   "cell_type": "code",
   "execution_count": 118,
   "id": "04e9dc22",
   "metadata": {},
   "outputs": [],
   "source": [
    "x_train_scaled=scaler.fit_transform(x_train)\n",
    "x_test_scaled=scaler.fit_transform(x_test)"
   ]
  },
  {
   "cell_type": "code",
   "execution_count": 119,
   "id": "306c5c8c",
   "metadata": {},
   "outputs": [],
   "source": [
    "y_train_scaled=scaler.transform(y_train)\n",
    "y_test_scaled=scaler.transform(y_test)"
   ]
  },
  {
   "cell_type": "code",
   "execution_count": 101,
   "id": "a6e69c4b",
   "metadata": {},
   "outputs": [],
   "source": [
    "x=df.iloc[:,0:2].values.reshape(-1,1)"
   ]
  },
  {
   "cell_type": "code",
   "execution_count": 102,
   "id": "15b77620",
   "metadata": {},
   "outputs": [],
   "source": [
    "y=df['If you answered yes/ongoing to the previous question, what year did you (or will you) complete your NYSC?'].values.reshape(-1,1)"
   ]
  },
  {
   "cell_type": "code",
   "execution_count": 131,
   "id": "65d959ae",
   "metadata": {},
   "outputs": [],
   "source": [
    "x_train_new=scaler.fit_transform(x)\n",
    "x_test_new=scaler.fit_transform(y)"
   ]
  },
  {
   "cell_type": "code",
   "execution_count": 127,
   "id": "ac990838",
   "metadata": {},
   "outputs": [
    {
     "data": {
      "text/plain": [
       "array([[ 0.47366946],\n",
       "       [ 0.47110838],\n",
       "       [ 0.47238892],\n",
       "       ...,\n",
       "       [ 0.47495001],\n",
       "       [ 0.47110838],\n",
       "       [-2.10790764]])"
      ]
     },
     "execution_count": 127,
     "metadata": {},
     "output_type": "execute_result"
    }
   ],
   "source": [
    "x_train_scaled"
   ]
  },
  {
   "cell_type": "code",
   "execution_count": 126,
   "id": "71144011",
   "metadata": {},
   "outputs": [
    {
     "data": {
      "text/plain": [
       "array([[0.44907123],\n",
       "       [0.44507945],\n",
       "       [0.44641005],\n",
       "       ...,\n",
       "       [0.44774064],\n",
       "       [0.44774064],\n",
       "       [0.44907123]])"
      ]
     },
     "execution_count": 126,
     "metadata": {},
     "output_type": "execute_result"
    }
   ],
   "source": [
    "x_test_scaled"
   ]
  },
  {
   "cell_type": "code",
   "execution_count": 123,
   "id": "3a92f65c",
   "metadata": {},
   "outputs": [
    {
     "data": {
      "text/plain": [
       "array([[0.44907123],\n",
       "       [0.44507945],\n",
       "       [0.44641005],\n",
       "       ...,\n",
       "       [0.44774064],\n",
       "       [0.44774064],\n",
       "       [0.44907123]])"
      ]
     },
     "execution_count": 123,
     "metadata": {},
     "output_type": "execute_result"
    }
   ],
   "source": [
    "x_test_scaled"
   ]
  },
  {
   "cell_type": "code",
   "execution_count": 135,
   "id": "c438b977",
   "metadata": {},
   "outputs": [
    {
     "data": {
      "image/png": "[encoded data removed]",
      "text/plain": [
       "<Figure size 864x360 with 2 Axes>"
      ]
     },
     "metadata": {
      "needs_background": "light"
     },
     "output_type": "display_data"
    }
   ],
   "source": [
    "fig,(a1,a2)=plt.subplots(ncols=2,figsize=(12,5))\n",
    "a1.scatter(df['How many jobs have you had since graduation including your current one?'],df['Approximately how many hours a day do you currently work?'])\n",
    "a1.set_title('Before scaling')\n",
    "a2.scatter(x_train_scaled,x_train_scaled,color='red')\n",
    "a2.set_title('After scaling')\n",
    "plt.show()"
   ]
  },
  {
   "cell_type": "code",
   "execution_count": 134,
   "id": "d222a0c8",
   "metadata": {},
   "outputs": [
    {
     "data": {
      "image/png": "[encoded data removed]",
      "text/plain": [
       "<Figure size 864x360 with 2 Axes>"
      ]
     },
     "metadata": {
      "needs_background": "light"
     },
     "output_type": "display_data"
    }
   ],
   "source": [
    "fig,(a1,a2)=plt.subplots(ncols=2,figsize=(12,5))\n",
    "a1.scatter(df['How many jobs have you had since graduation including your current one?'],df['Approximately how many hours a day do you currently work?'])\n",
    "a1.set_title('Before scaling')\n",
    "a2.scatter(x_train_new,x_train_new,color='red')\n",
    "a2.set_title('After scaling')\n",
    "plt.show()"
   ]
  }
 ],
 "metadata": {
  "kernelspec": {
   "display_name": "Python 3",
   "language": "python",
   "name": "python3"
  },
  "language_info": {
   "codemirror_mode": {
    "name": "ipython",
    "version": 3
   },
   "file_extension": ".py",
   "mimetype": "text/x-python",
   "name": "python",
   "nbconvert_exporter": "python",
   "pygments_lexer": "ipython3",
   "version": "3.8.8"
  }
 },
 "nbformat": 4,
 "nbformat_minor": 5
}
