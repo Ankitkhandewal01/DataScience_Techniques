{
 "cells": [
  {
   "cell_type": "markdown",
   "id": "2e622746",
   "metadata": {},
   "source": [
    "# NLP(Natural language proccesing )"
   ]
  },
  {
   "cell_type": "code",
   "execution_count": 1,
   "id": "f2f86222",
   "metadata": {},
   "outputs": [],
   "source": [
    "import nltk"
   ]
  },
  {
   "cell_type": "code",
   "execution_count": 2,
   "id": "45dca4cf",
   "metadata": {},
   "outputs": [],
   "source": [
    "text='''A cow is one of the most innocent and loving domestic animals who are harmless. They are kept in homes, for they are beneficial in various ways. If the general physical description of a cow is to be given then, a cow is a four-legged animal with a large body and two horns, a mouth, two eyes, and two ears.\n",
    "\n",
    "The significant benefit of a cow is that they give us milk, which helps us to keep our body fit and immunity healthy. Cow’s milk has a rich content of phosphorus, calcium, vitamin D and B, and potassium. It is also very rich in protein. A cow’s milk can be used to make various dairy products, for example, butter, clarified butter, curd, cottage cheese, cheese, and many other products. Cow’s milk is the most consumed and versatile in the world. Skimmed or toned milk, where the fat quantity has been reduced can be consumed by people who do not want to gain weight.\n",
    "\n",
    "Even the fecal matter of cows, known as cow dung, is a very beneficial product. It is used in the making of biogas and renewable source of energy as it has a lot of methane content in it. In a rural area, cow dung is used to make dry cow dung cakes, which are used as fuel for burning and are used in the kitchen to providing a flame for cooking daily. It is also used as fertile manure in the fields. Cow dung is a useful insect repellent and a building raw material for paper making.'''\n"
   ]
  },
  {
   "cell_type": "code",
   "execution_count": 5,
   "id": "1db18a62",
   "metadata": {},
   "outputs": [
    {
     "name": "stdout",
     "output_type": "stream",
     "text": [
      "cow one innocent loving domestic animals harmless . kept homes , beneficial various ways . general physical description cow given , cow four-legged animal large body two horns , mouth , two eyes , two ears . significant benefit cow give us milk , helps us keep body fit immunity healthy . Cow ’ milk rich content phosphorus , calcium , vitamin B , potassium . also rich protein . cow ’ milk used make various dairy products , example , butter , clarified butter , curd , cottage cheese , cheese , many products . Cow ’ milk consumed versatile world . Skimmed toned milk , fat quantity reduced consumed people want gain weight . Even fecal matter cows , known cow dung , beneficial product . used making biogas renewable source energy lot methane content . rural area , cow dung used make dry cow dung cakes , used fuel burning used kitchen providing flame cooking daily . also used fertile manure fields . Cow dung useful insect repellent building raw material paper making .\n"
     ]
    },
    {
     "name": "stderr",
     "output_type": "stream",
     "text": [
      "[nltk_data] Downloading package stopwords to\n",
      "[nltk_data]     C:\\Users\\Ankit\\AppData\\Roaming\\nltk_data...\n",
      "[nltk_data]   Package stopwords is already up-to-date!\n"
     ]
    }
   ],
   "source": [
    "import nltk\n",
    "from nltk.corpus import stopwords\n",
    "from nltk.tokenize import word_tokenize\n",
    "\n",
    "def remove_stopwords(sentence):\n",
    "    # Download stopwords if not already available\n",
    "    nltk.download('stopwords')\n",
    "    \n",
    "    # Get the list of stopwords\n",
    "    stop_words = set(stopwords.words('english'))\n",
    "    \n",
    "    # Tokenize the sentence\n",
    "    tokens = word_tokenize(sentence)\n",
    "    \n",
    "    # Remove stopwords from the tokens\n",
    "    filtered_tokens = [token for token in tokens if token.lower() not in stop_words]\n",
    "    \n",
    "    # Join the filtered tokens back into a sentence\n",
    "    filtered_sentence = ' '.join(filtered_tokens)\n",
    "    \n",
    "    return filtered_sentence\n",
    "\n",
    "# Example usage\n",
    "sentence = '''A cow is one of the most innocent and loving domestic animals who are harmless. They are kept in homes, for they are beneficial in various ways. If the general physical description of a cow is to be given then, a cow is a four-legged animal with a large body and two horns, a mouth, two eyes, and two ears.\n",
    "\n",
    "The significant benefit of a cow is that they give us milk, which helps us to keep our body fit and immunity healthy. Cow’s milk has a rich content of phosphorus, calcium, vitamin D and B, and potassium. It is also very rich in protein. A cow’s milk can be used to make various dairy products, for example, butter, clarified butter, curd, cottage cheese, cheese, and many other products. Cow’s milk is the most consumed and versatile in the world. Skimmed or toned milk, where the fat quantity has been reduced can be consumed by people who do not want to gain weight.\n",
    "\n",
    "Even the fecal matter of cows, known as cow dung, is a very beneficial product. It is used in the making of biogas and renewable source of energy as it has a lot of methane content in it. In a rural area, cow dung is used to make dry cow dung cakes, which are used as fuel for burning and are used in the kitchen to providing a flame for cooking daily. It is also used as fertile manure in the fields. Cow dung is a useful insect repellent and a building raw material for paper making.'''\n",
    "\n",
    "filtered_sentence = remove_stopwords(sentence)\n",
    "print(filtered_sentence)\n"
   ]
  },
  {
   "cell_type": "code",
   "execution_count": 3,
   "id": "ff18dbe0",
   "metadata": {},
   "outputs": [],
   "source": [
    "  stop_words = set(stopwords.words('english'))"
   ]
  },
  {
   "cell_type": "code",
   "execution_count": 4,
   "id": "cb706c83",
   "metadata": {},
   "outputs": [
    {
     "data": {
      "text/plain": [
       "{'a',\n",
       " 'about',\n",
       " 'above',\n",
       " 'after',\n",
       " 'again',\n",
       " 'against',\n",
       " 'ain',\n",
       " 'all',\n",
       " 'am',\n",
       " 'an',\n",
       " 'and',\n",
       " 'any',\n",
       " 'are',\n",
       " 'aren',\n",
       " \"aren't\",\n",
       " 'as',\n",
       " 'at',\n",
       " 'be',\n",
       " 'because',\n",
       " 'been',\n",
       " 'before',\n",
       " 'being',\n",
       " 'below',\n",
       " 'between',\n",
       " 'both',\n",
       " 'but',\n",
       " 'by',\n",
       " 'can',\n",
       " 'couldn',\n",
       " \"couldn't\",\n",
       " 'd',\n",
       " 'did',\n",
       " 'didn',\n",
       " \"didn't\",\n",
       " 'do',\n",
       " 'does',\n",
       " 'doesn',\n",
       " \"doesn't\",\n",
       " 'doing',\n",
       " 'don',\n",
       " \"don't\",\n",
       " 'down',\n",
       " 'during',\n",
       " 'each',\n",
       " 'few',\n",
       " 'for',\n",
       " 'from',\n",
       " 'further',\n",
       " 'had',\n",
       " 'hadn',\n",
       " \"hadn't\",\n",
       " 'has',\n",
       " 'hasn',\n",
       " \"hasn't\",\n",
       " 'have',\n",
       " 'haven',\n",
       " \"haven't\",\n",
       " 'having',\n",
       " 'he',\n",
       " 'her',\n",
       " 'here',\n",
       " 'hers',\n",
       " 'herself',\n",
       " 'him',\n",
       " 'himself',\n",
       " 'his',\n",
       " 'how',\n",
       " 'i',\n",
       " 'if',\n",
       " 'in',\n",
       " 'into',\n",
       " 'is',\n",
       " 'isn',\n",
       " \"isn't\",\n",
       " 'it',\n",
       " \"it's\",\n",
       " 'its',\n",
       " 'itself',\n",
       " 'just',\n",
       " 'll',\n",
       " 'm',\n",
       " 'ma',\n",
       " 'me',\n",
       " 'mightn',\n",
       " \"mightn't\",\n",
       " 'more',\n",
       " 'most',\n",
       " 'mustn',\n",
       " \"mustn't\",\n",
       " 'my',\n",
       " 'myself',\n",
       " 'needn',\n",
       " \"needn't\",\n",
       " 'no',\n",
       " 'nor',\n",
       " 'not',\n",
       " 'now',\n",
       " 'o',\n",
       " 'of',\n",
       " 'off',\n",
       " 'on',\n",
       " 'once',\n",
       " 'only',\n",
       " 'or',\n",
       " 'other',\n",
       " 'our',\n",
       " 'ours',\n",
       " 'ourselves',\n",
       " 'out',\n",
       " 'over',\n",
       " 'own',\n",
       " 're',\n",
       " 's',\n",
       " 'same',\n",
       " 'shan',\n",
       " \"shan't\",\n",
       " 'she',\n",
       " \"she's\",\n",
       " 'should',\n",
       " \"should've\",\n",
       " 'shouldn',\n",
       " \"shouldn't\",\n",
       " 'so',\n",
       " 'some',\n",
       " 'such',\n",
       " 't',\n",
       " 'than',\n",
       " 'that',\n",
       " \"that'll\",\n",
       " 'the',\n",
       " 'their',\n",
       " 'theirs',\n",
       " 'them',\n",
       " 'themselves',\n",
       " 'then',\n",
       " 'there',\n",
       " 'these',\n",
       " 'they',\n",
       " 'this',\n",
       " 'those',\n",
       " 'through',\n",
       " 'to',\n",
       " 'too',\n",
       " 'under',\n",
       " 'until',\n",
       " 'up',\n",
       " 've',\n",
       " 'very',\n",
       " 'was',\n",
       " 'wasn',\n",
       " \"wasn't\",\n",
       " 'we',\n",
       " 'were',\n",
       " 'weren',\n",
       " \"weren't\",\n",
       " 'what',\n",
       " 'when',\n",
       " 'where',\n",
       " 'which',\n",
       " 'while',\n",
       " 'who',\n",
       " 'whom',\n",
       " 'why',\n",
       " 'will',\n",
       " 'with',\n",
       " 'won',\n",
       " \"won't\",\n",
       " 'wouldn',\n",
       " \"wouldn't\",\n",
       " 'y',\n",
       " 'you',\n",
       " \"you'd\",\n",
       " \"you'll\",\n",
       " \"you're\",\n",
       " \"you've\",\n",
       " 'your',\n",
       " 'yours',\n",
       " 'yourself',\n",
       " 'yourselves'}"
      ]
     },
     "execution_count": 4,
     "metadata": {},
     "output_type": "execute_result"
    }
   ],
   "source": [
    "stop_words"
   ]
  },
  {
   "cell_type": "code",
   "execution_count": 3,
   "id": "5e1f0278",
   "metadata": {},
   "outputs": [
    {
     "data": {
      "text/plain": [
       "'A cow is one of the most innocent and loving domestic animals who are harmless. They are kept in homes, for they are beneficial in various ways. If the general physical description of a cow is to be given then, a cow is a four-legged animal with a large body and two horns, a mouth, two eyes, and two ears.\\n\\nThe significant benefit of a cow is that they give us milk, which helps us to keep our body fit and immunity healthy. Cow’s milk has a rich content of phosphorus, calcium, vitamin D and B, and potassium. It is also very rich in protein. A cow’s milk can be used to make various dairy products, for example, butter, clarified butter, curd, cottage cheese, cheese, and many other products. Cow’s milk is the most consumed and versatile in the world. Skimmed or toned milk, where the fat quantity has been reduced can be consumed by people who do not want to gain weight.\\n\\nEven the fecal matter of cows, known as cow dung, is a very beneficial product. It is used in the making of biogas and renewable source of energy as it has a lot of methane content in it. In a rural area, cow dung is used to make dry cow dung cakes, which are used as fuel for burning and are used in the kitchen to providing a flame for cooking daily. It is also used as fertile manure in the fields. Cow dung is a useful insect repellent and a building raw material for paper making.'"
      ]
     },
     "execution_count": 3,
     "metadata": {},
     "output_type": "execute_result"
    }
   ],
   "source": [
    "text"
   ]
  },
  {
   "cell_type": "code",
   "execution_count": 4,
   "id": "3c17647c",
   "metadata": {},
   "outputs": [],
   "source": [
    "from nltk.tokenize import blankline_tokenize"
   ]
  },
  {
   "cell_type": "code",
   "execution_count": 5,
   "id": "2389e891",
   "metadata": {},
   "outputs": [],
   "source": [
    "b=blankline_tokenize(text)"
   ]
  },
  {
   "cell_type": "code",
   "execution_count": 6,
   "id": "64ef51d9",
   "metadata": {},
   "outputs": [
    {
     "data": {
      "text/plain": [
       "['A cow is one of the most innocent and loving domestic animals who are harmless. They are kept in homes, for they are beneficial in various ways. If the general physical description of a cow is to be given then, a cow is a four-legged animal with a large body and two horns, a mouth, two eyes, and two ears.',\n",
       " 'The significant benefit of a cow is that they give us milk, which helps us to keep our body fit and immunity healthy. Cow’s milk has a rich content of phosphorus, calcium, vitamin D and B, and potassium. It is also very rich in protein. A cow’s milk can be used to make various dairy products, for example, butter, clarified butter, curd, cottage cheese, cheese, and many other products. Cow’s milk is the most consumed and versatile in the world. Skimmed or toned milk, where the fat quantity has been reduced can be consumed by people who do not want to gain weight.',\n",
       " 'Even the fecal matter of cows, known as cow dung, is a very beneficial product. It is used in the making of biogas and renewable source of energy as it has a lot of methane content in it. In a rural area, cow dung is used to make dry cow dung cakes, which are used as fuel for burning and are used in the kitchen to providing a flame for cooking daily. It is also used as fertile manure in the fields. Cow dung is a useful insect repellent and a building raw material for paper making.']"
      ]
     },
     "execution_count": 6,
     "metadata": {},
     "output_type": "execute_result"
    }
   ],
   "source": [
    "b"
   ]
  },
  {
   "cell_type": "code",
   "execution_count": 7,
   "id": "d936328c",
   "metadata": {},
   "outputs": [
    {
     "data": {
      "text/plain": [
       "3"
      ]
     },
     "execution_count": 7,
     "metadata": {},
     "output_type": "execute_result"
    }
   ],
   "source": [
    "len(b)"
   ]
  },
  {
   "cell_type": "code",
   "execution_count": 8,
   "id": "95a2b7e6",
   "metadata": {},
   "outputs": [],
   "source": [
    "from nltk.tokenize import word_tokenize"
   ]
  },
  {
   "cell_type": "code",
   "execution_count": 9,
   "id": "ac70ee7e",
   "metadata": {},
   "outputs": [],
   "source": [
    "tokens=word_tokenize(text)"
   ]
  },
  {
   "cell_type": "code",
   "execution_count": 10,
   "id": "e16d0a36",
   "metadata": {},
   "outputs": [
    {
     "name": "stdout",
     "output_type": "stream",
     "text": [
      "['A', 'cow', 'is', 'one', 'of', 'the', 'most', 'innocent', 'and', 'loving', 'domestic', 'animals', 'who', 'are', 'harmless', '.', 'They', 'are', 'kept', 'in', 'homes', ',', 'for', 'they', 'are', 'beneficial', 'in', 'various', 'ways', '.', 'If', 'the', 'general', 'physical', 'description', 'of', 'a', 'cow', 'is', 'to', 'be', 'given', 'then', ',', 'a', 'cow', 'is', 'a', 'four-legged', 'animal', 'with', 'a', 'large', 'body', 'and', 'two', 'horns', ',', 'a', 'mouth', ',', 'two', 'eyes', ',', 'and', 'two', 'ears', '.', 'The', 'significant', 'benefit', 'of', 'a', 'cow', 'is', 'that', 'they', 'give', 'us', 'milk', ',', 'which', 'helps', 'us', 'to', 'keep', 'our', 'body', 'fit', 'and', 'immunity', 'healthy', '.', 'Cow', '’', 's', 'milk', 'has', 'a', 'rich', 'content', 'of', 'phosphorus', ',', 'calcium', ',', 'vitamin', 'D', 'and', 'B', ',', 'and', 'potassium', '.', 'It', 'is', 'also', 'very', 'rich', 'in', 'protein', '.', 'A', 'cow', '’', 's', 'milk', 'can', 'be', 'used', 'to', 'make', 'various', 'dairy', 'products', ',', 'for', 'example', ',', 'butter', ',', 'clarified', 'butter', ',', 'curd', ',', 'cottage', 'cheese', ',', 'cheese', ',', 'and', 'many', 'other', 'products', '.', 'Cow', '’', 's', 'milk', 'is', 'the', 'most', 'consumed', 'and', 'versatile', 'in', 'the', 'world', '.', 'Skimmed', 'or', 'toned', 'milk', ',', 'where', 'the', 'fat', 'quantity', 'has', 'been', 'reduced', 'can', 'be', 'consumed', 'by', 'people', 'who', 'do', 'not', 'want', 'to', 'gain', 'weight', '.', 'Even', 'the', 'fecal', 'matter', 'of', 'cows', ',', 'known', 'as', 'cow', 'dung', ',', 'is', 'a', 'very', 'beneficial', 'product', '.', 'It', 'is', 'used', 'in', 'the', 'making', 'of', 'biogas', 'and', 'renewable', 'source', 'of', 'energy', 'as', 'it', 'has', 'a', 'lot', 'of', 'methane', 'content', 'in', 'it', '.', 'In', 'a', 'rural', 'area', ',', 'cow', 'dung', 'is', 'used', 'to', 'make', 'dry', 'cow', 'dung', 'cakes', ',', 'which', 'are', 'used', 'as', 'fuel', 'for', 'burning', 'and', 'are', 'used', 'in', 'the', 'kitchen', 'to', 'providing', 'a', 'flame', 'for', 'cooking', 'daily', '.', 'It', 'is', 'also', 'used', 'as', 'fertile', 'manure', 'in', 'the', 'fields', '.', 'Cow', 'dung', 'is', 'a', 'useful', 'insect', 'repellent', 'and', 'a', 'building', 'raw', 'material', 'for', 'paper', 'making', '.']\n"
     ]
    }
   ],
   "source": [
    "print(tokens)"
   ]
  },
  {
   "cell_type": "code",
   "execution_count": 11,
   "id": "f2d936a0",
   "metadata": {},
   "outputs": [
    {
     "data": {
      "text/plain": [
       "301"
      ]
     },
     "execution_count": 11,
     "metadata": {},
     "output_type": "execute_result"
    }
   ],
   "source": [
    "len(tokens)"
   ]
  },
  {
   "cell_type": "code",
   "execution_count": 12,
   "id": "c18f0e94",
   "metadata": {},
   "outputs": [
    {
     "data": {
      "text/plain": [
       "1363"
      ]
     },
     "execution_count": 12,
     "metadata": {},
     "output_type": "execute_result"
    }
   ],
   "source": [
    "len(text)"
   ]
  },
  {
   "cell_type": "code",
   "execution_count": 13,
   "id": "e154c298",
   "metadata": {},
   "outputs": [],
   "source": [
    "from nltk.probability import FreqDist"
   ]
  },
  {
   "cell_type": "code",
   "execution_count": 14,
   "id": "192534e9",
   "metadata": {},
   "outputs": [],
   "source": [
    "f=FreqDist()\n",
    "for i in tokens:\n",
    "    f[i]+=1"
   ]
  },
  {
   "cell_type": "code",
   "execution_count": 15,
   "id": "0a1002f2",
   "metadata": {},
   "outputs": [
    {
     "data": {
      "text/plain": [
       "FreqDist({',': 21, '.': 14, 'a': 13, 'is': 11, 'and': 11, 'the': 9, 'cow': 8, 'of': 8, 'in': 8, 'to': 6, ...})"
      ]
     },
     "execution_count": 15,
     "metadata": {},
     "output_type": "execute_result"
    }
   ],
   "source": [
    "f"
   ]
  },
  {
   "cell_type": "code",
   "execution_count": 16,
   "id": "c27792a5",
   "metadata": {},
   "outputs": [],
   "source": [
    "cw=f.most_common(50)"
   ]
  },
  {
   "cell_type": "code",
   "execution_count": 17,
   "id": "2e43eed7",
   "metadata": {},
   "outputs": [
    {
     "data": {
      "text/plain": [
       "[(',', 21),\n",
       " ('.', 14),\n",
       " ('a', 13),\n",
       " ('is', 11),\n",
       " ('and', 11),\n",
       " ('the', 9),\n",
       " ('cow', 8),\n",
       " ('of', 8),\n",
       " ('in', 8),\n",
       " ('to', 6),\n",
       " ('used', 6),\n",
       " ('are', 5),\n",
       " ('for', 5),\n",
       " ('milk', 5),\n",
       " ('as', 4),\n",
       " ('dung', 4),\n",
       " ('be', 3),\n",
       " ('two', 3),\n",
       " ('Cow', 3),\n",
       " ('’', 3),\n",
       " ('s', 3),\n",
       " ('has', 3),\n",
       " ('It', 3),\n",
       " ('A', 2),\n",
       " ('most', 2),\n",
       " ('who', 2),\n",
       " ('they', 2),\n",
       " ('beneficial', 2),\n",
       " ('various', 2),\n",
       " ('body', 2),\n",
       " ('us', 2),\n",
       " ('which', 2),\n",
       " ('rich', 2),\n",
       " ('content', 2),\n",
       " ('also', 2),\n",
       " ('very', 2),\n",
       " ('can', 2),\n",
       " ('make', 2),\n",
       " ('products', 2),\n",
       " ('butter', 2),\n",
       " ('cheese', 2),\n",
       " ('consumed', 2),\n",
       " ('making', 2),\n",
       " ('it', 2),\n",
       " ('one', 1),\n",
       " ('innocent', 1),\n",
       " ('loving', 1),\n",
       " ('domestic', 1),\n",
       " ('animals', 1),\n",
       " ('harmless', 1)]"
      ]
     },
     "execution_count": 17,
     "metadata": {},
     "output_type": "execute_result"
    }
   ],
   "source": [
    "cw"
   ]
  },
  {
   "cell_type": "code",
   "execution_count": 18,
   "id": "ede6978c",
   "metadata": {},
   "outputs": [],
   "source": [
    "from nltk.stem import PorterStemmer"
   ]
  },
  {
   "cell_type": "code",
   "execution_count": 19,
   "id": "5ff1ff49",
   "metadata": {},
   "outputs": [
    {
     "name": "stdout",
     "output_type": "stream",
     "text": [
      "A==a\n",
      "cow==cow\n",
      "is==is\n",
      "one==one\n",
      "of==of\n",
      "the==the\n",
      "most==most\n",
      "innocent==innoc\n",
      "and==and\n",
      "loving==love\n",
      "domestic==domest\n",
      "animals==anim\n",
      "who==who\n",
      "are==are\n",
      "harmless==harmless\n",
      ".==.\n",
      "They==they\n",
      "are==are\n",
      "kept==kept\n",
      "in==in\n",
      "homes==home\n",
      ",==,\n",
      "for==for\n",
      "they==they\n",
      "are==are\n",
      "beneficial==benefici\n",
      "in==in\n",
      "various==variou\n",
      "ways==way\n",
      ".==.\n",
      "If==if\n",
      "the==the\n",
      "general==gener\n",
      "physical==physic\n",
      "description==descript\n",
      "of==of\n",
      "a==a\n",
      "cow==cow\n",
      "is==is\n",
      "to==to\n",
      "be==be\n",
      "given==given\n",
      "then==then\n",
      ",==,\n",
      "a==a\n",
      "cow==cow\n",
      "is==is\n",
      "a==a\n",
      "four-legged==four-leg\n",
      "animal==anim\n",
      "with==with\n",
      "a==a\n",
      "large==larg\n",
      "body==bodi\n",
      "and==and\n",
      "two==two\n",
      "horns==horn\n",
      ",==,\n",
      "a==a\n",
      "mouth==mouth\n",
      ",==,\n",
      "two==two\n",
      "eyes==eye\n",
      ",==,\n",
      "and==and\n",
      "two==two\n",
      "ears==ear\n",
      ".==.\n",
      "The==the\n",
      "significant==signific\n",
      "benefit==benefit\n",
      "of==of\n",
      "a==a\n",
      "cow==cow\n",
      "is==is\n",
      "that==that\n",
      "they==they\n",
      "give==give\n",
      "us==us\n",
      "milk==milk\n",
      ",==,\n",
      "which==which\n",
      "helps==help\n",
      "us==us\n",
      "to==to\n",
      "keep==keep\n",
      "our==our\n",
      "body==bodi\n",
      "fit==fit\n",
      "and==and\n",
      "immunity==immun\n",
      "healthy==healthi\n",
      ".==.\n",
      "Cow==cow\n",
      "’==’\n",
      "s==s\n",
      "milk==milk\n",
      "has==ha\n",
      "a==a\n",
      "rich==rich\n",
      "content==content\n",
      "of==of\n",
      "phosphorus==phosphoru\n",
      ",==,\n",
      "calcium==calcium\n",
      ",==,\n",
      "vitamin==vitamin\n",
      "D==d\n",
      "and==and\n",
      "B==b\n",
      ",==,\n",
      "and==and\n",
      "potassium==potassium\n",
      ".==.\n",
      "It==it\n",
      "is==is\n",
      "also==also\n",
      "very==veri\n",
      "rich==rich\n",
      "in==in\n",
      "protein==protein\n",
      ".==.\n",
      "A==a\n",
      "cow==cow\n",
      "’==’\n",
      "s==s\n",
      "milk==milk\n",
      "can==can\n",
      "be==be\n",
      "used==use\n",
      "to==to\n",
      "make==make\n",
      "various==variou\n",
      "dairy==dairi\n",
      "products==product\n",
      ",==,\n",
      "for==for\n",
      "example==exampl\n",
      ",==,\n",
      "butter==butter\n",
      ",==,\n",
      "clarified==clarifi\n",
      "butter==butter\n",
      ",==,\n",
      "curd==curd\n",
      ",==,\n",
      "cottage==cottag\n",
      "cheese==chees\n",
      ",==,\n",
      "cheese==chees\n",
      ",==,\n",
      "and==and\n",
      "many==mani\n",
      "other==other\n",
      "products==product\n",
      ".==.\n",
      "Cow==cow\n",
      "’==’\n",
      "s==s\n",
      "milk==milk\n",
      "is==is\n",
      "the==the\n",
      "most==most\n",
      "consumed==consum\n",
      "and==and\n",
      "versatile==versatil\n",
      "in==in\n",
      "the==the\n",
      "world==world\n",
      ".==.\n",
      "Skimmed==skim\n",
      "or==or\n",
      "toned==tone\n",
      "milk==milk\n",
      ",==,\n",
      "where==where\n",
      "the==the\n",
      "fat==fat\n",
      "quantity==quantiti\n",
      "has==ha\n",
      "been==been\n",
      "reduced==reduc\n",
      "can==can\n",
      "be==be\n",
      "consumed==consum\n",
      "by==by\n",
      "people==peopl\n",
      "who==who\n",
      "do==do\n",
      "not==not\n",
      "want==want\n",
      "to==to\n",
      "gain==gain\n",
      "weight==weight\n",
      ".==.\n",
      "Even==even\n",
      "the==the\n",
      "fecal==fecal\n",
      "matter==matter\n",
      "of==of\n",
      "cows==cow\n",
      ",==,\n",
      "known==known\n",
      "as==as\n",
      "cow==cow\n",
      "dung==dung\n",
      ",==,\n",
      "is==is\n",
      "a==a\n",
      "very==veri\n",
      "beneficial==benefici\n",
      "product==product\n",
      ".==.\n",
      "It==it\n",
      "is==is\n",
      "used==use\n",
      "in==in\n",
      "the==the\n",
      "making==make\n",
      "of==of\n",
      "biogas==bioga\n",
      "and==and\n",
      "renewable==renew\n",
      "source==sourc\n",
      "of==of\n",
      "energy==energi\n",
      "as==as\n",
      "it==it\n",
      "has==ha\n",
      "a==a\n",
      "lot==lot\n",
      "of==of\n",
      "methane==methan\n",
      "content==content\n",
      "in==in\n",
      "it==it\n",
      ".==.\n",
      "In==in\n",
      "a==a\n",
      "rural==rural\n",
      "area==area\n",
      ",==,\n",
      "cow==cow\n",
      "dung==dung\n",
      "is==is\n",
      "used==use\n",
      "to==to\n",
      "make==make\n",
      "dry==dri\n",
      "cow==cow\n",
      "dung==dung\n",
      "cakes==cake\n",
      ",==,\n",
      "which==which\n",
      "are==are\n",
      "used==use\n",
      "as==as\n",
      "fuel==fuel\n",
      "for==for\n",
      "burning==burn\n",
      "and==and\n",
      "are==are\n",
      "used==use\n",
      "in==in\n",
      "the==the\n",
      "kitchen==kitchen\n",
      "to==to\n",
      "providing==provid\n",
      "a==a\n",
      "flame==flame\n",
      "for==for\n",
      "cooking==cook\n",
      "daily==daili\n",
      ".==.\n",
      "It==it\n",
      "is==is\n",
      "also==also\n",
      "used==use\n",
      "as==as\n",
      "fertile==fertil\n",
      "manure==manur\n",
      "in==in\n",
      "the==the\n",
      "fields==field\n",
      ".==.\n",
      "Cow==cow\n",
      "dung==dung\n",
      "is==is\n",
      "a==a\n",
      "useful==use\n",
      "insect==insect\n",
      "repellent==repel\n",
      "and==and\n",
      "a==a\n",
      "building==build\n",
      "raw==raw\n",
      "material==materi\n",
      "for==for\n",
      "paper==paper\n",
      "making==make\n",
      ".==.\n"
     ]
    }
   ],
   "source": [
    "p=PorterStemmer()\n",
    "for i in tokens:\n",
    "    print(i+\"==\"+p.stem(i))"
   ]
  },
  {
   "cell_type": "code",
   "execution_count": 20,
   "id": "a9f8ae00",
   "metadata": {},
   "outputs": [],
   "source": [
    "from nltk.stem import WordNetLemmatizer"
   ]
  },
  {
   "cell_type": "code",
   "execution_count": 21,
   "id": "5c60dd5a",
   "metadata": {},
   "outputs": [],
   "source": [
    "l=WordNetLemmatizer()\n",
    "d=l.lemmatize(text)"
   ]
  },
  {
   "cell_type": "code",
   "execution_count": 22,
   "id": "0acf36b6",
   "metadata": {},
   "outputs": [],
   "source": [
    "word='better'\n",
    "v=l.lemmatize(word,pos='v')\n",
    "a=l.lemmatize(word,pos='a')"
   ]
  },
  {
   "cell_type": "code",
   "execution_count": 23,
   "id": "abe3d6c6",
   "metadata": {},
   "outputs": [
    {
     "data": {
      "text/plain": [
       "'better'"
      ]
     },
     "execution_count": 23,
     "metadata": {},
     "output_type": "execute_result"
    }
   ],
   "source": [
    "v"
   ]
  },
  {
   "cell_type": "code",
   "execution_count": 24,
   "id": "f70e6474",
   "metadata": {},
   "outputs": [
    {
     "data": {
      "text/plain": [
       "'good'"
      ]
     },
     "execution_count": 24,
     "metadata": {},
     "output_type": "execute_result"
    }
   ],
   "source": [
    "a"
   ]
  },
  {
   "cell_type": "code",
   "execution_count": 25,
   "id": "5f24b9a2",
   "metadata": {},
   "outputs": [
    {
     "data": {
      "text/plain": [
       "'A cow is one of the most innocent and loving domestic animals who are harmless. They are kept in homes, for they are beneficial in various ways. If the general physical description of a cow is to be given then, a cow is a four-legged animal with a large body and two horns, a mouth, two eyes, and two ears.\\n\\nThe significant benefit of a cow is that they give us milk, which helps us to keep our body fit and immunity healthy. Cow’s milk has a rich content of phosphorus, calcium, vitamin D and B, and potassium. It is also very rich in protein. A cow’s milk can be used to make various dairy products, for example, butter, clarified butter, curd, cottage cheese, cheese, and many other products. Cow’s milk is the most consumed and versatile in the world. Skimmed or toned milk, where the fat quantity has been reduced can be consumed by people who do not want to gain weight.\\n\\nEven the fecal matter of cows, known as cow dung, is a very beneficial product. It is used in the making of biogas and renewable source of energy as it has a lot of methane content in it. In a rural area, cow dung is used to make dry cow dung cakes, which are used as fuel for burning and are used in the kitchen to providing a flame for cooking daily. It is also used as fertile manure in the fields. Cow dung is a useful insect repellent and a building raw material for paper making.'"
      ]
     },
     "execution_count": 25,
     "metadata": {},
     "output_type": "execute_result"
    }
   ],
   "source": [
    "d"
   ]
  },
  {
   "cell_type": "code",
   "execution_count": 26,
   "id": "2a654adf",
   "metadata": {},
   "outputs": [],
   "source": [
    "pos=nltk.pos_tag(tokens)"
   ]
  },
  {
   "cell_type": "code",
   "execution_count": 27,
   "id": "dd411a8c",
   "metadata": {},
   "outputs": [
    {
     "data": {
      "text/plain": [
       "[('A', 'DT'),\n",
       " ('cow', 'NN'),\n",
       " ('is', 'VBZ'),\n",
       " ('one', 'CD'),\n",
       " ('of', 'IN'),\n",
       " ('the', 'DT'),\n",
       " ('most', 'RBS'),\n",
       " ('innocent', 'JJ'),\n",
       " ('and', 'CC'),\n",
       " ('loving', 'JJ'),\n",
       " ('domestic', 'JJ'),\n",
       " ('animals', 'NNS'),\n",
       " ('who', 'WP'),\n",
       " ('are', 'VBP'),\n",
       " ('harmless', 'JJ'),\n",
       " ('.', '.'),\n",
       " ('They', 'PRP'),\n",
       " ('are', 'VBP'),\n",
       " ('kept', 'VBN'),\n",
       " ('in', 'IN'),\n",
       " ('homes', 'NNS'),\n",
       " (',', ','),\n",
       " ('for', 'IN'),\n",
       " ('they', 'PRP'),\n",
       " ('are', 'VBP'),\n",
       " ('beneficial', 'JJ'),\n",
       " ('in', 'IN'),\n",
       " ('various', 'JJ'),\n",
       " ('ways', 'NNS'),\n",
       " ('.', '.'),\n",
       " ('If', 'IN'),\n",
       " ('the', 'DT'),\n",
       " ('general', 'JJ'),\n",
       " ('physical', 'JJ'),\n",
       " ('description', 'NN'),\n",
       " ('of', 'IN'),\n",
       " ('a', 'DT'),\n",
       " ('cow', 'NN'),\n",
       " ('is', 'VBZ'),\n",
       " ('to', 'TO'),\n",
       " ('be', 'VB'),\n",
       " ('given', 'VBN'),\n",
       " ('then', 'RB'),\n",
       " (',', ','),\n",
       " ('a', 'DT'),\n",
       " ('cow', 'NN'),\n",
       " ('is', 'VBZ'),\n",
       " ('a', 'DT'),\n",
       " ('four-legged', 'JJ'),\n",
       " ('animal', 'NN'),\n",
       " ('with', 'IN'),\n",
       " ('a', 'DT'),\n",
       " ('large', 'JJ'),\n",
       " ('body', 'NN'),\n",
       " ('and', 'CC'),\n",
       " ('two', 'CD'),\n",
       " ('horns', 'NNS'),\n",
       " (',', ','),\n",
       " ('a', 'DT'),\n",
       " ('mouth', 'NN'),\n",
       " (',', ','),\n",
       " ('two', 'CD'),\n",
       " ('eyes', 'NNS'),\n",
       " (',', ','),\n",
       " ('and', 'CC'),\n",
       " ('two', 'CD'),\n",
       " ('ears', 'NNS'),\n",
       " ('.', '.'),\n",
       " ('The', 'DT'),\n",
       " ('significant', 'JJ'),\n",
       " ('benefit', 'NN'),\n",
       " ('of', 'IN'),\n",
       " ('a', 'DT'),\n",
       " ('cow', 'NN'),\n",
       " ('is', 'VBZ'),\n",
       " ('that', 'IN'),\n",
       " ('they', 'PRP'),\n",
       " ('give', 'VBP'),\n",
       " ('us', 'PRP'),\n",
       " ('milk', 'NN'),\n",
       " (',', ','),\n",
       " ('which', 'WDT'),\n",
       " ('helps', 'VBZ'),\n",
       " ('us', 'PRP'),\n",
       " ('to', 'TO'),\n",
       " ('keep', 'VB'),\n",
       " ('our', 'PRP$'),\n",
       " ('body', 'NN'),\n",
       " ('fit', 'NN'),\n",
       " ('and', 'CC'),\n",
       " ('immunity', 'NN'),\n",
       " ('healthy', 'JJ'),\n",
       " ('.', '.'),\n",
       " ('Cow', 'NNP'),\n",
       " ('’', 'NNP'),\n",
       " ('s', 'NN'),\n",
       " ('milk', 'NN'),\n",
       " ('has', 'VBZ'),\n",
       " ('a', 'DT'),\n",
       " ('rich', 'JJ'),\n",
       " ('content', 'NN'),\n",
       " ('of', 'IN'),\n",
       " ('phosphorus', 'NN'),\n",
       " (',', ','),\n",
       " ('calcium', 'NN'),\n",
       " (',', ','),\n",
       " ('vitamin', 'NN'),\n",
       " ('D', 'NNP'),\n",
       " ('and', 'CC'),\n",
       " ('B', 'NNP'),\n",
       " (',', ','),\n",
       " ('and', 'CC'),\n",
       " ('potassium', 'NN'),\n",
       " ('.', '.'),\n",
       " ('It', 'PRP'),\n",
       " ('is', 'VBZ'),\n",
       " ('also', 'RB'),\n",
       " ('very', 'RB'),\n",
       " ('rich', 'JJ'),\n",
       " ('in', 'IN'),\n",
       " ('protein', 'NN'),\n",
       " ('.', '.'),\n",
       " ('A', 'DT'),\n",
       " ('cow', 'JJ'),\n",
       " ('’', 'NN'),\n",
       " ('s', 'NN'),\n",
       " ('milk', 'NN'),\n",
       " ('can', 'MD'),\n",
       " ('be', 'VB'),\n",
       " ('used', 'VBN'),\n",
       " ('to', 'TO'),\n",
       " ('make', 'VB'),\n",
       " ('various', 'JJ'),\n",
       " ('dairy', 'NN'),\n",
       " ('products', 'NNS'),\n",
       " (',', ','),\n",
       " ('for', 'IN'),\n",
       " ('example', 'NN'),\n",
       " (',', ','),\n",
       " ('butter', 'NN'),\n",
       " (',', ','),\n",
       " ('clarified', 'VBD'),\n",
       " ('butter', 'NN'),\n",
       " (',', ','),\n",
       " ('curd', 'NN'),\n",
       " (',', ','),\n",
       " ('cottage', 'NN'),\n",
       " ('cheese', 'NN'),\n",
       " (',', ','),\n",
       " ('cheese', 'NN'),\n",
       " (',', ','),\n",
       " ('and', 'CC'),\n",
       " ('many', 'JJ'),\n",
       " ('other', 'JJ'),\n",
       " ('products', 'NNS'),\n",
       " ('.', '.'),\n",
       " ('Cow', 'NNP'),\n",
       " ('’', 'NNP'),\n",
       " ('s', 'NN'),\n",
       " ('milk', 'NN'),\n",
       " ('is', 'VBZ'),\n",
       " ('the', 'DT'),\n",
       " ('most', 'RBS'),\n",
       " ('consumed', 'JJ'),\n",
       " ('and', 'CC'),\n",
       " ('versatile', 'NN'),\n",
       " ('in', 'IN'),\n",
       " ('the', 'DT'),\n",
       " ('world', 'NN'),\n",
       " ('.', '.'),\n",
       " ('Skimmed', 'NNP'),\n",
       " ('or', 'CC'),\n",
       " ('toned', 'VBN'),\n",
       " ('milk', 'NN'),\n",
       " (',', ','),\n",
       " ('where', 'WRB'),\n",
       " ('the', 'DT'),\n",
       " ('fat', 'JJ'),\n",
       " ('quantity', 'NN'),\n",
       " ('has', 'VBZ'),\n",
       " ('been', 'VBN'),\n",
       " ('reduced', 'VBN'),\n",
       " ('can', 'MD'),\n",
       " ('be', 'VB'),\n",
       " ('consumed', 'VBN'),\n",
       " ('by', 'IN'),\n",
       " ('people', 'NNS'),\n",
       " ('who', 'WP'),\n",
       " ('do', 'VBP'),\n",
       " ('not', 'RB'),\n",
       " ('want', 'VB'),\n",
       " ('to', 'TO'),\n",
       " ('gain', 'VB'),\n",
       " ('weight', 'NN'),\n",
       " ('.', '.'),\n",
       " ('Even', 'RB'),\n",
       " ('the', 'DT'),\n",
       " ('fecal', 'JJ'),\n",
       " ('matter', 'NN'),\n",
       " ('of', 'IN'),\n",
       " ('cows', 'NNS'),\n",
       " (',', ','),\n",
       " ('known', 'VBN'),\n",
       " ('as', 'IN'),\n",
       " ('cow', 'NN'),\n",
       " ('dung', 'NN'),\n",
       " (',', ','),\n",
       " ('is', 'VBZ'),\n",
       " ('a', 'DT'),\n",
       " ('very', 'RB'),\n",
       " ('beneficial', 'JJ'),\n",
       " ('product', 'NN'),\n",
       " ('.', '.'),\n",
       " ('It', 'PRP'),\n",
       " ('is', 'VBZ'),\n",
       " ('used', 'VBN'),\n",
       " ('in', 'IN'),\n",
       " ('the', 'DT'),\n",
       " ('making', 'NN'),\n",
       " ('of', 'IN'),\n",
       " ('biogas', 'NN'),\n",
       " ('and', 'CC'),\n",
       " ('renewable', 'JJ'),\n",
       " ('source', 'NN'),\n",
       " ('of', 'IN'),\n",
       " ('energy', 'NN'),\n",
       " ('as', 'IN'),\n",
       " ('it', 'PRP'),\n",
       " ('has', 'VBZ'),\n",
       " ('a', 'DT'),\n",
       " ('lot', 'NN'),\n",
       " ('of', 'IN'),\n",
       " ('methane', 'NN'),\n",
       " ('content', 'NN'),\n",
       " ('in', 'IN'),\n",
       " ('it', 'PRP'),\n",
       " ('.', '.'),\n",
       " ('In', 'IN'),\n",
       " ('a', 'DT'),\n",
       " ('rural', 'JJ'),\n",
       " ('area', 'NN'),\n",
       " (',', ','),\n",
       " ('cow', 'NN'),\n",
       " ('dung', 'NN'),\n",
       " ('is', 'VBZ'),\n",
       " ('used', 'VBN'),\n",
       " ('to', 'TO'),\n",
       " ('make', 'VB'),\n",
       " ('dry', 'JJ'),\n",
       " ('cow', 'NN'),\n",
       " ('dung', 'NN'),\n",
       " ('cakes', 'NNS'),\n",
       " (',', ','),\n",
       " ('which', 'WDT'),\n",
       " ('are', 'VBP'),\n",
       " ('used', 'VBN'),\n",
       " ('as', 'IN'),\n",
       " ('fuel', 'NN'),\n",
       " ('for', 'IN'),\n",
       " ('burning', 'NN'),\n",
       " ('and', 'CC'),\n",
       " ('are', 'VBP'),\n",
       " ('used', 'VBN'),\n",
       " ('in', 'IN'),\n",
       " ('the', 'DT'),\n",
       " ('kitchen', 'NN'),\n",
       " ('to', 'TO'),\n",
       " ('providing', 'VBG'),\n",
       " ('a', 'DT'),\n",
       " ('flame', 'NN'),\n",
       " ('for', 'IN'),\n",
       " ('cooking', 'VBG'),\n",
       " ('daily', 'RB'),\n",
       " ('.', '.'),\n",
       " ('It', 'PRP'),\n",
       " ('is', 'VBZ'),\n",
       " ('also', 'RB'),\n",
       " ('used', 'VBN'),\n",
       " ('as', 'IN'),\n",
       " ('fertile', 'JJ'),\n",
       " ('manure', 'NN'),\n",
       " ('in', 'IN'),\n",
       " ('the', 'DT'),\n",
       " ('fields', 'NNS'),\n",
       " ('.', '.'),\n",
       " ('Cow', 'NNP'),\n",
       " ('dung', 'NN'),\n",
       " ('is', 'VBZ'),\n",
       " ('a', 'DT'),\n",
       " ('useful', 'JJ'),\n",
       " ('insect', 'JJ'),\n",
       " ('repellent', 'NN'),\n",
       " ('and', 'CC'),\n",
       " ('a', 'DT'),\n",
       " ('building', 'NN'),\n",
       " ('raw', 'JJ'),\n",
       " ('material', 'NN'),\n",
       " ('for', 'IN'),\n",
       " ('paper', 'NN'),\n",
       " ('making', 'NN'),\n",
       " ('.', '.')]"
      ]
     },
     "execution_count": 27,
     "metadata": {},
     "output_type": "execute_result"
    }
   ],
   "source": [
    "pos"
   ]
  },
  {
   "cell_type": "code",
   "execution_count": 28,
   "id": "2518e58f",
   "metadata": {},
   "outputs": [],
   "source": [
    "import pandas as pd\n",
    "import numpy as np"
   ]
  },
  {
   "cell_type": "code",
   "execution_count": 29,
   "id": "46907a2b",
   "metadata": {},
   "outputs": [],
   "source": [
    "df=pd.DataFrame({\"Text\":['Yellow White Green','Blue Yellow White',\"Pink Blue Black\"]})"
   ]
  },
  {
   "cell_type": "code",
   "execution_count": 30,
   "id": "9d07e80d",
   "metadata": {},
   "outputs": [
    {
     "data": {
      "text/html": [
       "<div>\n",
       "<style scoped>\n",
       "    .dataframe tbody tr th:only-of-type {\n",
       "        vertical-align: middle;\n",
       "    }\n",
       "\n",
       "    .dataframe tbody tr th {\n",
       "        vertical-align: top;\n",
       "    }\n",
       "\n",
       "    .dataframe thead th {\n",
       "        text-align: right;\n",
       "    }\n",
       "</style>\n",
       "<table border=\"1\" class=\"dataframe\">\n",
       "  <thead>\n",
       "    <tr style=\"text-align: right;\">\n",
       "      <th></th>\n",
       "      <th>Text</th>\n",
       "    </tr>\n",
       "  </thead>\n",
       "  <tbody>\n",
       "    <tr>\n",
       "      <th>0</th>\n",
       "      <td>Yellow White Green</td>\n",
       "    </tr>\n",
       "    <tr>\n",
       "      <th>1</th>\n",
       "      <td>Blue Yellow White</td>\n",
       "    </tr>\n",
       "    <tr>\n",
       "      <th>2</th>\n",
       "      <td>Pink Blue Black</td>\n",
       "    </tr>\n",
       "  </tbody>\n",
       "</table>\n",
       "</div>"
      ],
      "text/plain": [
       "                 Text\n",
       "0  Yellow White Green\n",
       "1   Blue Yellow White\n",
       "2     Pink Blue Black"
      ]
     },
     "execution_count": 30,
     "metadata": {},
     "output_type": "execute_result"
    }
   ],
   "source": [
    "df"
   ]
  },
  {
   "cell_type": "code",
   "execution_count": 31,
   "id": "723b2636",
   "metadata": {},
   "outputs": [],
   "source": [
    "from sklearn.feature_extraction.text import CountVectorizer"
   ]
  },
  {
   "cell_type": "code",
   "execution_count": 32,
   "id": "5ca42a40",
   "metadata": {},
   "outputs": [],
   "source": [
    "cv=CountVectorizer()"
   ]
  },
  {
   "cell_type": "code",
   "execution_count": 33,
   "id": "7f29daa7",
   "metadata": {},
   "outputs": [],
   "source": [
    "x=cv.fit_transform(df[\"Text\"])"
   ]
  },
  {
   "cell_type": "code",
   "execution_count": 34,
   "id": "6e581a10",
   "metadata": {},
   "outputs": [
    {
     "data": {
      "text/plain": [
       "<3x6 sparse matrix of type '<class 'numpy.int64'>'\n",
       "\twith 9 stored elements in Compressed Sparse Row format>"
      ]
     },
     "execution_count": 34,
     "metadata": {},
     "output_type": "execute_result"
    }
   ],
   "source": [
    "x"
   ]
  },
  {
   "cell_type": "code",
   "execution_count": 35,
   "id": "4f1c2fa3",
   "metadata": {},
   "outputs": [
    {
     "data": {
      "text/plain": [
       "{'yellow': 5, 'white': 4, 'green': 2, 'blue': 1, 'pink': 3, 'black': 0}"
      ]
     },
     "execution_count": 35,
     "metadata": {},
     "output_type": "execute_result"
    }
   ],
   "source": [
    "cv.vocabulary_"
   ]
  },
  {
   "cell_type": "code",
   "execution_count": 36,
   "id": "860da09d",
   "metadata": {},
   "outputs": [
    {
     "data": {
      "text/plain": [
       "Text    Yellow White Green\n",
       "Name: 0, dtype: object"
      ]
     },
     "execution_count": 36,
     "metadata": {},
     "output_type": "execute_result"
    }
   ],
   "source": [
    "df.loc[0]"
   ]
  },
  {
   "cell_type": "code",
   "execution_count": 37,
   "id": "94412742",
   "metadata": {},
   "outputs": [
    {
     "data": {
      "text/plain": [
       "Text    Blue Yellow White\n",
       "Name: 1, dtype: object"
      ]
     },
     "execution_count": 37,
     "metadata": {},
     "output_type": "execute_result"
    }
   ],
   "source": [
    "df.loc[1]"
   ]
  },
  {
   "cell_type": "code",
   "execution_count": 38,
   "id": "90fb8ef4",
   "metadata": {},
   "outputs": [
    {
     "name": "stdout",
     "output_type": "stream",
     "text": [
      "[[0 0 1 0 1 1]]\n"
     ]
    }
   ],
   "source": [
    "print(x[0].toarray())"
   ]
  },
  {
   "cell_type": "code",
   "execution_count": 39,
   "id": "f53170b8",
   "metadata": {},
   "outputs": [
    {
     "name": "stdout",
     "output_type": "stream",
     "text": [
      "[[0 1 0 0 1 1]]\n"
     ]
    }
   ],
   "source": [
    "print(x[1].toarray())"
   ]
  },
  {
   "cell_type": "code",
   "execution_count": 40,
   "id": "1a634056",
   "metadata": {},
   "outputs": [
    {
     "data": {
      "text/plain": [
       "array([[0, 0, 1, 0, 1, 1]], dtype=int64)"
      ]
     },
     "execution_count": 40,
     "metadata": {},
     "output_type": "execute_result"
    }
   ],
   "source": [
    "cv.transform([\"Yellow is a good color then white green\"]).toarray()"
   ]
  },
  {
   "cell_type": "code",
   "execution_count": 41,
   "id": "96741fb7",
   "metadata": {},
   "outputs": [],
   "source": [
    "x=CountVectorizer(ngram_range=(2,2))"
   ]
  },
  {
   "cell_type": "code",
   "execution_count": 42,
   "id": "01aac56e",
   "metadata": {},
   "outputs": [],
   "source": [
    "x2=x.fit_transform(df['Text'])"
   ]
  },
  {
   "cell_type": "code",
   "execution_count": 46,
   "id": "cb6baf9c",
   "metadata": {},
   "outputs": [
    {
     "data": {
      "text/plain": [
       "{'yellow white': 4,\n",
       " 'white green': 3,\n",
       " 'blue yellow': 1,\n",
       " 'pink blue': 2,\n",
       " 'blue black': 0}"
      ]
     },
     "execution_count": 46,
     "metadata": {},
     "output_type": "execute_result"
    }
   ],
   "source": [
    "x.vocabulary_"
   ]
  },
  {
   "cell_type": "code",
   "execution_count": 47,
   "id": "f2d27500",
   "metadata": {},
   "outputs": [
    {
     "data": {
      "text/html": [
       "<div>\n",
       "<style scoped>\n",
       "    .dataframe tbody tr th:only-of-type {\n",
       "        vertical-align: middle;\n",
       "    }\n",
       "\n",
       "    .dataframe tbody tr th {\n",
       "        vertical-align: top;\n",
       "    }\n",
       "\n",
       "    .dataframe thead th {\n",
       "        text-align: right;\n",
       "    }\n",
       "</style>\n",
       "<table border=\"1\" class=\"dataframe\">\n",
       "  <thead>\n",
       "    <tr style=\"text-align: right;\">\n",
       "      <th></th>\n",
       "      <th>Text</th>\n",
       "    </tr>\n",
       "  </thead>\n",
       "  <tbody>\n",
       "    <tr>\n",
       "      <th>0</th>\n",
       "      <td>Yellow White Green</td>\n",
       "    </tr>\n",
       "    <tr>\n",
       "      <th>1</th>\n",
       "      <td>Blue Yellow White</td>\n",
       "    </tr>\n",
       "    <tr>\n",
       "      <th>2</th>\n",
       "      <td>Pink Blue Black</td>\n",
       "    </tr>\n",
       "  </tbody>\n",
       "</table>\n",
       "</div>"
      ],
      "text/plain": [
       "                 Text\n",
       "0  Yellow White Green\n",
       "1   Blue Yellow White\n",
       "2     Pink Blue Black"
      ]
     },
     "execution_count": 47,
     "metadata": {},
     "output_type": "execute_result"
    }
   ],
   "source": [
    "df"
   ]
  },
  {
   "cell_type": "code",
   "execution_count": 48,
   "id": "c997a34f",
   "metadata": {},
   "outputs": [],
   "source": [
    "x=CountVectorizer(ngram_range=(3,3))"
   ]
  },
  {
   "cell_type": "code",
   "execution_count": 49,
   "id": "24a9a272",
   "metadata": {},
   "outputs": [],
   "source": [
    "x2=x.fit_transform(df['Text'])"
   ]
  },
  {
   "cell_type": "code",
   "execution_count": 50,
   "id": "1912046f",
   "metadata": {},
   "outputs": [
    {
     "data": {
      "text/plain": [
       "{'yellow white green': 2, 'blue yellow white': 0, 'pink blue black': 1}"
      ]
     },
     "execution_count": 50,
     "metadata": {},
     "output_type": "execute_result"
    }
   ],
   "source": [
    "x.vocabulary_"
   ]
  },
  {
   "cell_type": "code",
   "execution_count": 51,
   "id": "7da1f780",
   "metadata": {},
   "outputs": [],
   "source": [
    "x=CountVectorizer(ngram_range=(1,3))"
   ]
  },
  {
   "cell_type": "code",
   "execution_count": 52,
   "id": "8641cd42",
   "metadata": {},
   "outputs": [],
   "source": [
    "x2=x.fit_transform(df['Text'])"
   ]
  },
  {
   "cell_type": "code",
   "execution_count": 53,
   "id": "4d725d2e",
   "metadata": {},
   "outputs": [
    {
     "data": {
      "text/plain": [
       "{'yellow': 11,\n",
       " 'white': 9,\n",
       " 'green': 5,\n",
       " 'yellow white': 12,\n",
       " 'white green': 10,\n",
       " 'yellow white green': 13,\n",
       " 'blue': 1,\n",
       " 'blue yellow': 3,\n",
       " 'blue yellow white': 4,\n",
       " 'pink': 6,\n",
       " 'black': 0,\n",
       " 'pink blue': 7,\n",
       " 'blue black': 2,\n",
       " 'pink blue black': 8}"
      ]
     },
     "execution_count": 53,
     "metadata": {},
     "output_type": "execute_result"
    }
   ],
   "source": [
    "x.vocabulary_"
   ]
  },
  {
   "cell_type": "code",
   "execution_count": 65,
   "id": "4f1f0931",
   "metadata": {},
   "outputs": [],
   "source": [
    "from sklearn.feature_extraction.text import TfidfVectorizer"
   ]
  },
  {
   "cell_type": "code",
   "execution_count": 66,
   "id": "1e63accb",
   "metadata": {},
   "outputs": [],
   "source": [
    "s=['Yellow White Green','Blue Yellow White',\"Pink Blue Black\"]"
   ]
  },
  {
   "cell_type": "code",
   "execution_count": 67,
   "id": "d123a545",
   "metadata": {},
   "outputs": [
    {
     "data": {
      "text/plain": [
       "['Yellow White Green', 'Blue Yellow White', 'Pink Blue Black']"
      ]
     },
     "execution_count": 67,
     "metadata": {},
     "output_type": "execute_result"
    }
   ],
   "source": [
    "s"
   ]
  },
  {
   "cell_type": "code",
   "execution_count": 69,
   "id": "7fb84463",
   "metadata": {},
   "outputs": [],
   "source": [
    "tf=TfidfVectorizer()\n",
    "tf.fit(s)\n",
    "tf2=tf.transform(s)"
   ]
  },
  {
   "cell_type": "code",
   "execution_count": 70,
   "id": "8914f739",
   "metadata": {},
   "outputs": [
    {
     "name": "stdout",
     "output_type": "stream",
     "text": [
      "  (0, 5)\t0.5178561161676974\n",
      "  (0, 4)\t0.5178561161676974\n",
      "  (0, 2)\t0.680918560398684\n",
      "  (1, 5)\t0.5773502691896257\n",
      "  (1, 4)\t0.5773502691896257\n",
      "  (1, 1)\t0.5773502691896257\n",
      "  (2, 3)\t0.6227660078332259\n",
      "  (2, 1)\t0.4736296010332684\n",
      "  (2, 0)\t0.6227660078332259\n"
     ]
    }
   ],
   "source": [
    "print(tf2)"
   ]
  },
  {
   "cell_type": "code",
   "execution_count": 71,
   "id": "405305cb",
   "metadata": {},
   "outputs": [
    {
     "data": {
      "text/plain": [
       "{'yellow': 5, 'white': 4, 'green': 2, 'blue': 1, 'pink': 3, 'black': 0}"
      ]
     },
     "execution_count": 71,
     "metadata": {},
     "output_type": "execute_result"
    }
   ],
   "source": [
    "tf.vocabulary_"
   ]
  },
  {
   "cell_type": "code",
   "execution_count": 72,
   "id": "cd5ecc81",
   "metadata": {},
   "outputs": [
    {
     "data": {
      "text/html": [
       "<div>\n",
       "<style scoped>\n",
       "    .dataframe tbody tr th:only-of-type {\n",
       "        vertical-align: middle;\n",
       "    }\n",
       "\n",
       "    .dataframe tbody tr th {\n",
       "        vertical-align: top;\n",
       "    }\n",
       "\n",
       "    .dataframe thead th {\n",
       "        text-align: right;\n",
       "    }\n",
       "</style>\n",
       "<table border=\"1\" class=\"dataframe\">\n",
       "  <thead>\n",
       "    <tr style=\"text-align: right;\">\n",
       "      <th></th>\n",
       "      <th>Text</th>\n",
       "    </tr>\n",
       "  </thead>\n",
       "  <tbody>\n",
       "    <tr>\n",
       "      <th>0</th>\n",
       "      <td>Yellow White Green</td>\n",
       "    </tr>\n",
       "    <tr>\n",
       "      <th>1</th>\n",
       "      <td>Blue Yellow White</td>\n",
       "    </tr>\n",
       "    <tr>\n",
       "      <th>2</th>\n",
       "      <td>Pink Blue Black</td>\n",
       "    </tr>\n",
       "  </tbody>\n",
       "</table>\n",
       "</div>"
      ],
      "text/plain": [
       "                 Text\n",
       "0  Yellow White Green\n",
       "1   Blue Yellow White\n",
       "2     Pink Blue Black"
      ]
     },
     "execution_count": 72,
     "metadata": {},
     "output_type": "execute_result"
    }
   ],
   "source": [
    "df"
   ]
  },
  {
   "cell_type": "code",
   "execution_count": null,
   "id": "14435acb",
   "metadata": {},
   "outputs": [],
   "source": []
  }
 ],
 "metadata": {
  "kernelspec": {
   "display_name": "Python 3",
   "language": "python",
   "name": "python3"
  },
  "language_info": {
   "codemirror_mode": {
    "name": "ipython",
    "version": 3
   },
   "file_extension": ".py",
   "mimetype": "text/x-python",
   "name": "python",
   "nbconvert_exporter": "python",
   "pygments_lexer": "ipython3",
   "version": "3.8.8"
  }
 },
 "nbformat": 4,
 "nbformat_minor": 5
}
